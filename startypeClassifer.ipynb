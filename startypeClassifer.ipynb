{
 "cells": [
  {
   "cell_type": "code",
   "execution_count": 213,
   "id": "71a53790",
   "metadata": {},
   "outputs": [],
   "source": [
    "# 필요한 모듈 임포트 및 필요한 설정\n",
    "import numpy as np\n",
    "import pandas as pd\n",
    "import matplotlib.pyplot as plt\n",
    "import sklearn  # scikit-learn 모듈 임포트\n",
    "from sklearn.linear_model import Ridge #Ridge 회귀 사용\n",
    "from sklearn.pipeline import Pipeline\n",
    "from sklearn.preprocessing import MinMaxScaler # 특성 스케일링: Min-Mas 스케일링 , 정규화\n",
    "from sklearn.preprocessing import StandardScaler # 특성 스케일링: 표준화\n",
    "from sklearn.model_selection import train_test_split # 테스트 집합 분리\n",
    "from sklearn.preprocessing import PolynomialFeatures\n",
    "\n",
    "\n",
    "# 랜덤하게 실행되는 부분들에 대해 다음에 실행해도 동일한 결과를 얻기 위해 설정\n",
    "seed = 11\n",
    "rng = np.random.default_rng(seed)"
   ]
  },
  {
   "cell_type": "code",
   "execution_count": 214,
   "id": "8e853de8",
   "metadata": {},
   "outputs": [],
   "source": [
    "df = pd.read_csv('6class.csv', sep=',')  # 별의 종류 데이터셋"
   ]
  },
  {
   "cell_type": "code",
   "execution_count": 215,
   "id": "1fe886cc",
   "metadata": {},
   "outputs": [
    {
     "name": "stdout",
     "output_type": "stream",
     "text": [
      "<class 'pandas.core.frame.DataFrame'>\n",
      "RangeIndex: 240 entries, 0 to 239\n",
      "Data columns (total 7 columns):\n",
      " #   Column                  Non-Null Count  Dtype  \n",
      "---  ------                  --------------  -----  \n",
      " 0   Temperature (K)         240 non-null    int64  \n",
      " 1   Luminosity(L/Lo)        240 non-null    float64\n",
      " 2   Radius(R/Ro)            240 non-null    float64\n",
      " 3   Absolute Magnitude(Mv)  240 non-null    float64\n",
      " 4   Star color              240 non-null    int64  \n",
      " 5   Spectral Class          240 non-null    int64  \n",
      " 6   Star type               240 non-null    int64  \n",
      "dtypes: float64(3), int64(4)\n",
      "memory usage: 13.2 KB\n"
     ]
    }
   ],
   "source": [
    "df.info() # 데이터셋 정보"
   ]
  },
  {
   "cell_type": "markdown",
   "id": "8b2e9a7b",
   "metadata": {},
   "source": [
    "##### 각 특성 별 의미 (총 7개, 모두 수치형) \n",
    "Temperature (K)          : 온도\n",
    "Luminosity(L/Lo)         : 밝기\n",
    "Radius(R/Ro)             : 반지름\n",
    "Absolute Magnitude(Mv)   : 절대 크기\n",
    "Star color               : 색\n",
    "Spectral Class           : 분광형\n",
    "Star Type                : 항성 분류"
   ]
  },
  {
   "cell_type": "code",
   "execution_count": 216,
   "id": "4f69d973",
   "metadata": {},
   "outputs": [
    {
     "data": {
      "text/html": [
       "<div>\n",
       "<style scoped>\n",
       "    .dataframe tbody tr th:only-of-type {\n",
       "        vertical-align: middle;\n",
       "    }\n",
       "\n",
       "    .dataframe tbody tr th {\n",
       "        vertical-align: top;\n",
       "    }\n",
       "\n",
       "    .dataframe thead th {\n",
       "        text-align: right;\n",
       "    }\n",
       "</style>\n",
       "<table border=\"1\" class=\"dataframe\">\n",
       "  <thead>\n",
       "    <tr style=\"text-align: right;\">\n",
       "      <th></th>\n",
       "      <th>Temperature (K)</th>\n",
       "      <th>Luminosity(L/Lo)</th>\n",
       "      <th>Radius(R/Ro)</th>\n",
       "      <th>Absolute Magnitude(Mv)</th>\n",
       "      <th>Star color</th>\n",
       "      <th>Spectral Class</th>\n",
       "      <th>Star type</th>\n",
       "    </tr>\n",
       "  </thead>\n",
       "  <tbody>\n",
       "    <tr>\n",
       "      <th>count</th>\n",
       "      <td>240.000000</td>\n",
       "      <td>240.000000</td>\n",
       "      <td>240.000000</td>\n",
       "      <td>240.000000</td>\n",
       "      <td>240.000000</td>\n",
       "      <td>240.000000</td>\n",
       "      <td>240.000000</td>\n",
       "    </tr>\n",
       "    <tr>\n",
       "      <th>mean</th>\n",
       "      <td>10497.462500</td>\n",
       "      <td>107188.361635</td>\n",
       "      <td>237.157781</td>\n",
       "      <td>4.382396</td>\n",
       "      <td>5.566667</td>\n",
       "      <td>3.758333</td>\n",
       "      <td>2.500000</td>\n",
       "    </tr>\n",
       "    <tr>\n",
       "      <th>std</th>\n",
       "      <td>9552.425037</td>\n",
       "      <td>179432.244940</td>\n",
       "      <td>517.155763</td>\n",
       "      <td>10.532512</td>\n",
       "      <td>1.665467</td>\n",
       "      <td>2.090007</td>\n",
       "      <td>1.711394</td>\n",
       "    </tr>\n",
       "    <tr>\n",
       "      <th>min</th>\n",
       "      <td>1939.000000</td>\n",
       "      <td>0.000080</td>\n",
       "      <td>0.008400</td>\n",
       "      <td>-11.920000</td>\n",
       "      <td>0.000000</td>\n",
       "      <td>0.000000</td>\n",
       "      <td>0.000000</td>\n",
       "    </tr>\n",
       "    <tr>\n",
       "      <th>25%</th>\n",
       "      <td>3344.250000</td>\n",
       "      <td>0.000865</td>\n",
       "      <td>0.102750</td>\n",
       "      <td>-6.232500</td>\n",
       "      <td>5.000000</td>\n",
       "      <td>1.000000</td>\n",
       "      <td>1.000000</td>\n",
       "    </tr>\n",
       "    <tr>\n",
       "      <th>50%</th>\n",
       "      <td>5776.000000</td>\n",
       "      <td>0.070500</td>\n",
       "      <td>0.762500</td>\n",
       "      <td>8.313000</td>\n",
       "      <td>6.000000</td>\n",
       "      <td>5.000000</td>\n",
       "      <td>2.500000</td>\n",
       "    </tr>\n",
       "    <tr>\n",
       "      <th>75%</th>\n",
       "      <td>15055.500000</td>\n",
       "      <td>198050.000000</td>\n",
       "      <td>42.750000</td>\n",
       "      <td>13.697500</td>\n",
       "      <td>7.000000</td>\n",
       "      <td>5.000000</td>\n",
       "      <td>4.000000</td>\n",
       "    </tr>\n",
       "    <tr>\n",
       "      <th>max</th>\n",
       "      <td>40000.000000</td>\n",
       "      <td>849420.000000</td>\n",
       "      <td>1948.500000</td>\n",
       "      <td>20.060000</td>\n",
       "      <td>9.000000</td>\n",
       "      <td>6.000000</td>\n",
       "      <td>5.000000</td>\n",
       "    </tr>\n",
       "  </tbody>\n",
       "</table>\n",
       "</div>"
      ],
      "text/plain": [
       "       Temperature (K)  Luminosity(L/Lo)  Radius(R/Ro)  \\\n",
       "count       240.000000        240.000000    240.000000   \n",
       "mean      10497.462500     107188.361635    237.157781   \n",
       "std        9552.425037     179432.244940    517.155763   \n",
       "min        1939.000000          0.000080      0.008400   \n",
       "25%        3344.250000          0.000865      0.102750   \n",
       "50%        5776.000000          0.070500      0.762500   \n",
       "75%       15055.500000     198050.000000     42.750000   \n",
       "max       40000.000000     849420.000000   1948.500000   \n",
       "\n",
       "       Absolute Magnitude(Mv)  Star color  Spectral Class   Star type  \n",
       "count              240.000000  240.000000      240.000000  240.000000  \n",
       "mean                 4.382396    5.566667        3.758333    2.500000  \n",
       "std                 10.532512    1.665467        2.090007    1.711394  \n",
       "min                -11.920000    0.000000        0.000000    0.000000  \n",
       "25%                 -6.232500    5.000000        1.000000    1.000000  \n",
       "50%                  8.313000    6.000000        5.000000    2.500000  \n",
       "75%                 13.697500    7.000000        5.000000    4.000000  \n",
       "max                 20.060000    9.000000        6.000000    5.000000  "
      ]
     },
     "execution_count": 216,
     "metadata": {},
     "output_type": "execute_result"
    }
   ],
   "source": [
    "df.describe() # 데이터셋의 특성 요약 정보"
   ]
  },
  {
   "cell_type": "code",
   "execution_count": 217,
   "id": "305efb3a",
   "metadata": {},
   "outputs": [
    {
     "data": {
      "text/plain": [
       "Index(['Temperature (K)', 'Luminosity(L/Lo)', 'Radius(R/Ro)',\n",
       "       'Absolute Magnitude(Mv)', 'Star color', 'Spectral Class', 'Star type'],\n",
       "      dtype='object')"
      ]
     },
     "execution_count": 217,
     "metadata": {},
     "output_type": "execute_result"
    }
   ],
   "source": [
    "df.keys() #데이터셋의 키값 목록"
   ]
  },
  {
   "cell_type": "code",
   "execution_count": 218,
   "id": "914e83d3",
   "metadata": {},
   "outputs": [
    {
     "data": {
      "text/html": [
       "<div>\n",
       "<style scoped>\n",
       "    .dataframe tbody tr th:only-of-type {\n",
       "        vertical-align: middle;\n",
       "    }\n",
       "\n",
       "    .dataframe tbody tr th {\n",
       "        vertical-align: top;\n",
       "    }\n",
       "\n",
       "    .dataframe thead th {\n",
       "        text-align: right;\n",
       "    }\n",
       "</style>\n",
       "<table border=\"1\" class=\"dataframe\">\n",
       "  <thead>\n",
       "    <tr style=\"text-align: right;\">\n",
       "      <th></th>\n",
       "      <th>Temperature (K)</th>\n",
       "      <th>Luminosity(L/Lo)</th>\n",
       "      <th>Radius(R/Ro)</th>\n",
       "      <th>Absolute Magnitude(Mv)</th>\n",
       "      <th>Star color</th>\n",
       "      <th>Spectral Class</th>\n",
       "    </tr>\n",
       "  </thead>\n",
       "  <tbody>\n",
       "    <tr>\n",
       "      <th>0</th>\n",
       "      <td>3068</td>\n",
       "      <td>0.002400</td>\n",
       "      <td>0.1700</td>\n",
       "      <td>16.12</td>\n",
       "      <td>6</td>\n",
       "      <td>5</td>\n",
       "    </tr>\n",
       "    <tr>\n",
       "      <th>1</th>\n",
       "      <td>3042</td>\n",
       "      <td>0.000500</td>\n",
       "      <td>0.1542</td>\n",
       "      <td>16.60</td>\n",
       "      <td>6</td>\n",
       "      <td>5</td>\n",
       "    </tr>\n",
       "    <tr>\n",
       "      <th>2</th>\n",
       "      <td>2600</td>\n",
       "      <td>0.000300</td>\n",
       "      <td>0.1020</td>\n",
       "      <td>18.70</td>\n",
       "      <td>6</td>\n",
       "      <td>5</td>\n",
       "    </tr>\n",
       "    <tr>\n",
       "      <th>3</th>\n",
       "      <td>2800</td>\n",
       "      <td>0.000200</td>\n",
       "      <td>0.1600</td>\n",
       "      <td>16.65</td>\n",
       "      <td>6</td>\n",
       "      <td>5</td>\n",
       "    </tr>\n",
       "    <tr>\n",
       "      <th>4</th>\n",
       "      <td>1939</td>\n",
       "      <td>0.000138</td>\n",
       "      <td>0.1030</td>\n",
       "      <td>20.06</td>\n",
       "      <td>6</td>\n",
       "      <td>5</td>\n",
       "    </tr>\n",
       "    <tr>\n",
       "      <th>...</th>\n",
       "      <td>...</td>\n",
       "      <td>...</td>\n",
       "      <td>...</td>\n",
       "      <td>...</td>\n",
       "      <td>...</td>\n",
       "      <td>...</td>\n",
       "    </tr>\n",
       "    <tr>\n",
       "      <th>235</th>\n",
       "      <td>38940</td>\n",
       "      <td>374830.000000</td>\n",
       "      <td>1356.0000</td>\n",
       "      <td>-9.93</td>\n",
       "      <td>7</td>\n",
       "      <td>6</td>\n",
       "    </tr>\n",
       "    <tr>\n",
       "      <th>236</th>\n",
       "      <td>30839</td>\n",
       "      <td>834042.000000</td>\n",
       "      <td>1194.0000</td>\n",
       "      <td>-10.63</td>\n",
       "      <td>7</td>\n",
       "      <td>6</td>\n",
       "    </tr>\n",
       "    <tr>\n",
       "      <th>237</th>\n",
       "      <td>8829</td>\n",
       "      <td>537493.000000</td>\n",
       "      <td>1423.0000</td>\n",
       "      <td>-10.73</td>\n",
       "      <td>5</td>\n",
       "      <td>0</td>\n",
       "    </tr>\n",
       "    <tr>\n",
       "      <th>238</th>\n",
       "      <td>9235</td>\n",
       "      <td>404940.000000</td>\n",
       "      <td>1112.0000</td>\n",
       "      <td>-11.23</td>\n",
       "      <td>5</td>\n",
       "      <td>0</td>\n",
       "    </tr>\n",
       "    <tr>\n",
       "      <th>239</th>\n",
       "      <td>37882</td>\n",
       "      <td>294903.000000</td>\n",
       "      <td>1783.0000</td>\n",
       "      <td>-7.80</td>\n",
       "      <td>7</td>\n",
       "      <td>6</td>\n",
       "    </tr>\n",
       "  </tbody>\n",
       "</table>\n",
       "<p>240 rows × 6 columns</p>\n",
       "</div>"
      ],
      "text/plain": [
       "     Temperature (K)  Luminosity(L/Lo)  Radius(R/Ro)  Absolute Magnitude(Mv)  \\\n",
       "0               3068          0.002400        0.1700                   16.12   \n",
       "1               3042          0.000500        0.1542                   16.60   \n",
       "2               2600          0.000300        0.1020                   18.70   \n",
       "3               2800          0.000200        0.1600                   16.65   \n",
       "4               1939          0.000138        0.1030                   20.06   \n",
       "..               ...               ...           ...                     ...   \n",
       "235            38940     374830.000000     1356.0000                   -9.93   \n",
       "236            30839     834042.000000     1194.0000                  -10.63   \n",
       "237             8829     537493.000000     1423.0000                  -10.73   \n",
       "238             9235     404940.000000     1112.0000                  -11.23   \n",
       "239            37882     294903.000000     1783.0000                   -7.80   \n",
       "\n",
       "     Star color  Spectral Class  \n",
       "0             6               5  \n",
       "1             6               5  \n",
       "2             6               5  \n",
       "3             6               5  \n",
       "4             6               5  \n",
       "..          ...             ...  \n",
       "235           7               6  \n",
       "236           7               6  \n",
       "237           5               0  \n",
       "238           5               0  \n",
       "239           7               6  \n",
       "\n",
       "[240 rows x 6 columns]"
      ]
     },
     "execution_count": 218,
     "metadata": {},
     "output_type": "execute_result"
    }
   ],
   "source": [
    "X = df.loc[:, 'Temperature (K)':'Spectral Class'] # X에 Temperature (K)부터 Absolute magnitude(Mv)까지의 값을 넣음\n",
    "X # X에 잘 들어갔는지 확인 하려 출력"
   ]
  },
  {
   "cell_type": "code",
   "execution_count": 219,
   "id": "a15b71f6",
   "metadata": {},
   "outputs": [
    {
     "data": {
      "text/plain": [
       "0      0\n",
       "1      0\n",
       "2      0\n",
       "3      0\n",
       "4      0\n",
       "      ..\n",
       "235    5\n",
       "236    5\n",
       "237    5\n",
       "238    5\n",
       "239    5\n",
       "Name: Star type, Length: 240, dtype: int64"
      ]
     },
     "execution_count": 219,
     "metadata": {},
     "output_type": "execute_result"
    }
   ],
   "source": [
    "y=df['Star type'] # 목표값 Y = Star type\n",
    "y"
   ]
  },
  {
   "cell_type": "code",
   "execution_count": 220,
   "id": "029b691a",
   "metadata": {},
   "outputs": [
    {
     "data": {
      "text/plain": [
       "array([[2.96629095e-02, 2.73127546e-09, 8.29359490e-05, 8.76797999e-01,\n",
       "        6.66666667e-01, 8.33333333e-01],\n",
       "       [2.89797956e-02, 4.94455040e-10, 7.48271124e-05, 8.91807380e-01,\n",
       "        6.66666667e-01, 8.33333333e-01],\n",
       "       [1.73668585e-02, 2.59000259e-10, 4.80371586e-05, 9.57473421e-01,\n",
       "        6.66666667e-01, 8.33333333e-01],\n",
       "       ...,\n",
       "       [1.81025196e-01, 6.32776483e-01, 7.30304200e-01, 3.72107567e-02,\n",
       "        5.55555556e-01, 0.00000000e+00],\n",
       "       [1.91692283e-01, 4.76725295e-01, 5.70693556e-01, 2.15759850e-02,\n",
       "        5.55555556e-01, 0.00000000e+00],\n",
       "       [9.44352487e-01, 3.47181606e-01, 9.15062503e-01, 1.28830519e-01,\n",
       "        7.77777778e-01, 1.00000000e+00]])"
      ]
     },
     "execution_count": 220,
     "metadata": {},
     "output_type": "execute_result"
    }
   ],
   "source": [
    "# 정규화\n",
    "minmax_scaler = MinMaxScaler()\n",
    "minmax_scaled = minmax_scaler.fit_transform(X)\n",
    "\n",
    "minmax_scaled"
   ]
  },
  {
   "cell_type": "code",
   "execution_count": 221,
   "id": "2181ec0e",
   "metadata": {},
   "outputs": [
    {
     "data": {
      "text/plain": [
       "array([[-0.7793821 , -0.59862356, -0.45920992,  1.11674535,  0.26073107,\n",
       "         0.59533835],\n",
       "       [-0.78210961, -0.59862357, -0.45924053,  1.16241376,  0.26073107,\n",
       "         0.59533835],\n",
       "       [-0.82847728, -0.59862357, -0.45934168,  1.36221308,  0.26073107,\n",
       "         0.59533835],\n",
       "       ...,\n",
       "       [-0.17502879,  2.40315735,  2.29779992, -1.43783157, -0.34095602,\n",
       "        -1.80199729],\n",
       "       [-0.13243767,  1.66287782,  1.69517694, -1.48540283, -0.34095602,\n",
       "        -1.80199729],\n",
       "       [ 2.87275403,  1.04834522,  2.99536993, -1.15906395,  0.86241816,\n",
       "         1.07480548]])"
      ]
     },
     "execution_count": 221,
     "metadata": {},
     "output_type": "execute_result"
    }
   ],
   "source": [
    "#표준화\n",
    "standard_scaler = StandardScaler()\n",
    "standard_scaled = standard_scaler.fit_transform(X)\n",
    "\n",
    "standard_scaled"
   ]
  },
  {
   "cell_type": "code",
   "execution_count": 222,
   "id": "77601f01",
   "metadata": {},
   "outputs": [
    {
     "name": "stdout",
     "output_type": "stream",
     "text": [
      "X 훈련 데이터 :\n",
      "[[-0.78567635  0.96511523 -0.41109696 -0.9878074   0.26073107  0.59533835]\n",
      " [-0.76553474  0.49040881 -0.42659852 -1.10388129  0.26073107  0.59533835]\n",
      " [ 0.16811297  0.0715502   0.91409229 -1.16286966 -0.94264311 -1.32253016]\n",
      " ...\n",
      " [-0.47851675 -0.59861599 -0.45739623  0.00738346 -3.34939146 -0.84306303]\n",
      " [-0.05092707 -0.59554077 -0.44819218 -0.41571537 -0.94264311 -1.80199729]\n",
      " [-0.72630056  0.51833271 -0.28708451 -0.91549908  0.26073107  0.59533835]]\n"
     ]
    }
   ],
   "source": [
    "# 전체 데이터를 훈련 데이터, 테스트 데이터으로 나눔\n",
    "X_train, X_test, y_train, y_test = train_test_split(standard_scaled, y, test_size= 0.2, random_state=1234) # 표준화된 데이터셋 중 테스트, 훈련 데이터 무작위 분리 ,random_state : 난수 시드\n",
    "print('X 훈련 데이터 :')\n",
    "print(X_train)"
   ]
  },
  {
   "cell_type": "code",
   "execution_count": 223,
   "id": "3bd1c0b6",
   "metadata": {},
   "outputs": [
    {
     "name": "stdout",
     "output_type": "stream",
     "text": [
      "X 테스트 데이터 :\n",
      "[[-0.06351558  2.71817811 -0.30452376 -1.10787727  0.86241816  1.07480548]\n",
      " [ 2.90968032  0.92507234  2.16797439 -1.30082632  0.86241816  1.07480548]\n",
      " [ 2.04589883 -0.43755847 -0.44733185 -0.81655085 -0.94264311 -1.32253016]\n",
      " [-0.69902545  0.92043697  1.83275324 -1.2922635   0.26073107  0.59533835]\n",
      " [-0.72283872 -0.59862345 -0.458803    0.54589017  0.26073107  0.59533835]\n",
      " [-0.82459583 -0.59862357 -0.45929324  1.22140213  0.26073107  0.59533835]\n",
      " [ 0.07894437 -0.5948706  -0.44601422 -0.63578004 -0.94264311 -1.80199729]\n",
      " [-0.77654969 -0.59862357 -0.45858598  0.61724707  0.26073107  0.59533835]\n",
      " [ 0.66011385 -0.59862356 -0.45951588  0.80753213  0.86241816 -1.32253016]\n",
      " [-0.80330027 -0.59862357 -0.45932618  1.19856793  0.26073107  0.59533835]\n",
      " [-0.12352081 -0.59846161 -0.45583833 -0.29935606 -0.94264311 -1.80199729]\n",
      " [ 0.72232206  1.31639798 -0.40140849 -0.99637023  0.86241816  1.07480548]\n",
      " [ 0.25329522 -0.59862357 -0.45952101  0.80372643 -0.94264311 -1.32253016]\n",
      " [-0.77077995 -0.59862352 -0.45886113  0.71904958  0.26073107  0.59533835]\n",
      " [-0.70783741  0.98186957  1.98195572 -1.14288972  0.26073107  0.59533835]\n",
      " [-0.79815996 -0.59862357 -0.45935079  1.1938108   0.26073107  0.59533835]\n",
      " [-0.82847728 -0.59862357 -0.4593533   1.23852779  0.26073107  0.59533835]\n",
      " [-0.49781913  0.76964788 -0.27158296 -1.04774719  0.86241816  1.07480548]\n",
      " [ 0.50128883 -0.59227926 -0.44558792 -0.60438301 -0.94264311 -1.32253016]\n",
      " [ 1.62628188  1.16616736  2.7938497  -1.28274924  0.86241816 -1.32253016]\n",
      " [-0.72095044  0.42897621 -0.29677299 -1.05821287  0.26073107  0.59533835]\n",
      " [-0.33731564  0.1329828  -0.41303466 -1.10388129  0.86241816  1.07480548]\n",
      " [ 3.09494121  3.94180372 -0.4324116  -1.00969018  0.86241816  1.07480548]\n",
      " [ 0.23619583  1.25842795 -0.31227454 -1.08485278  0.86241816  1.07480548]\n",
      " [-0.81798686 -0.59862357 -0.45928742  1.11008537  0.26073107  0.59533835]\n",
      " [ 0.06278912  0.02687195 -0.43628699 -0.97924457  0.86241816  1.07480548]\n",
      " [ 1.32122036 -0.59862356 -0.45951917  0.55159873  0.86241816 -1.32253016]\n",
      " [-0.73804983 -0.59862354 -0.45925254  0.67433259  0.26073107  0.59533835]\n",
      " [-0.79333436 -0.59862356 -0.45935873  1.18905367  0.26073107  0.59533835]\n",
      " [ 1.90952332 -0.50485509 -0.44713808 -0.80608517 -0.94264311 -1.32253016]\n",
      " [-0.34277066 -0.59862357 -0.45951413  0.92265459 -2.14601728 -0.84306303]\n",
      " [ 1.48256307  1.42865208 -0.33746457 -0.97163317  0.86241816  1.07480548]\n",
      " [ 2.13391348  4.05931869  1.85406788 -1.42831731  0.86241816  1.07480548]\n",
      " [ 0.77865564 -0.59862356 -0.45951878  0.69240967  0.86241816 -1.32253016]\n",
      " [-0.77161919 -0.59862356 -0.4590394   0.92646029  0.26073107  0.59533835]\n",
      " [ 0.11219902  0.80315656 -0.38978232 -1.01111732  0.86241816  1.07480548]\n",
      " [-0.73448309 -0.59862356 -0.45888826  1.00447717  0.26073107  0.59533835]\n",
      " [-0.15394303 -0.59837225 -0.45444319 -0.27899556 -0.94264311 -1.80199729]\n",
      " [-0.76291213 -0.59862357 -0.45930486  1.45069563  0.26073107  0.59533835]\n",
      " [-0.5788052  -0.59862158 -0.45734973  0.03782907  1.46410525  0.11587122]\n",
      " [-0.69986469  0.51833271 -0.42272313 -1.07628995  0.26073107  0.59533835]\n",
      " [ 1.24338141 -0.52909304 -0.44721559 -0.76612531 -0.94264311 -1.32253016]\n",
      " [-0.7076276   0.56859575  1.3909589  -1.48635426  0.26073107  0.59533835]\n",
      " [-0.72881826 -0.59862355 -0.45897545  0.61914992  0.26073107  0.59533835]\n",
      " [-0.11796088  1.77222784 -0.41303466 -0.98685598  0.86241816  1.07480548]\n",
      " [ 0.81747021 -0.59862356 -0.45952123  0.7989693   0.86241816 -1.32253016]\n",
      " [ 0.14713213 -0.59862357 -0.45952192  0.66576976 -0.94264311 -1.32253016]\n",
      " [-0.67353372 -0.5986231  -0.45799886  0.17559545  1.46410525  0.11587122]]\n"
     ]
    }
   ],
   "source": [
    "print('X 테스트 데이터 :')\n",
    "print(X_test)"
   ]
  },
  {
   "cell_type": "markdown",
   "id": "b1e2cb1f",
   "metadata": {},
   "source": [
    "로지스틱 회귀"
   ]
  },
  {
   "cell_type": "code",
   "execution_count": 224,
   "id": "8e936c07",
   "metadata": {},
   "outputs": [
    {
     "data": {
      "text/html": [
       "<style>#sk-container-id-68 {color: black;background-color: white;}#sk-container-id-68 pre{padding: 0;}#sk-container-id-68 div.sk-toggleable {background-color: white;}#sk-container-id-68 label.sk-toggleable__label {cursor: pointer;display: block;width: 100%;margin-bottom: 0;padding: 0.3em;box-sizing: border-box;text-align: center;}#sk-container-id-68 label.sk-toggleable__label-arrow:before {content: \"▸\";float: left;margin-right: 0.25em;color: #696969;}#sk-container-id-68 label.sk-toggleable__label-arrow:hover:before {color: black;}#sk-container-id-68 div.sk-estimator:hover label.sk-toggleable__label-arrow:before {color: black;}#sk-container-id-68 div.sk-toggleable__content {max-height: 0;max-width: 0;overflow: hidden;text-align: left;background-color: #f0f8ff;}#sk-container-id-68 div.sk-toggleable__content pre {margin: 0.2em;color: black;border-radius: 0.25em;background-color: #f0f8ff;}#sk-container-id-68 input.sk-toggleable__control:checked~div.sk-toggleable__content {max-height: 200px;max-width: 100%;overflow: auto;}#sk-container-id-68 input.sk-toggleable__control:checked~label.sk-toggleable__label-arrow:before {content: \"▾\";}#sk-container-id-68 div.sk-estimator input.sk-toggleable__control:checked~label.sk-toggleable__label {background-color: #d4ebff;}#sk-container-id-68 div.sk-label input.sk-toggleable__control:checked~label.sk-toggleable__label {background-color: #d4ebff;}#sk-container-id-68 input.sk-hidden--visually {border: 0;clip: rect(1px 1px 1px 1px);clip: rect(1px, 1px, 1px, 1px);height: 1px;margin: -1px;overflow: hidden;padding: 0;position: absolute;width: 1px;}#sk-container-id-68 div.sk-estimator {font-family: monospace;background-color: #f0f8ff;border: 1px dotted black;border-radius: 0.25em;box-sizing: border-box;margin-bottom: 0.5em;}#sk-container-id-68 div.sk-estimator:hover {background-color: #d4ebff;}#sk-container-id-68 div.sk-parallel-item::after {content: \"\";width: 100%;border-bottom: 1px solid gray;flex-grow: 1;}#sk-container-id-68 div.sk-label:hover label.sk-toggleable__label {background-color: #d4ebff;}#sk-container-id-68 div.sk-serial::before {content: \"\";position: absolute;border-left: 1px solid gray;box-sizing: border-box;top: 0;bottom: 0;left: 50%;z-index: 0;}#sk-container-id-68 div.sk-serial {display: flex;flex-direction: column;align-items: center;background-color: white;padding-right: 0.2em;padding-left: 0.2em;position: relative;}#sk-container-id-68 div.sk-item {position: relative;z-index: 1;}#sk-container-id-68 div.sk-parallel {display: flex;align-items: stretch;justify-content: center;background-color: white;position: relative;}#sk-container-id-68 div.sk-item::before, #sk-container-id-68 div.sk-parallel-item::before {content: \"\";position: absolute;border-left: 1px solid gray;box-sizing: border-box;top: 0;bottom: 0;left: 50%;z-index: -1;}#sk-container-id-68 div.sk-parallel-item {display: flex;flex-direction: column;z-index: 1;position: relative;background-color: white;}#sk-container-id-68 div.sk-parallel-item:first-child::after {align-self: flex-end;width: 50%;}#sk-container-id-68 div.sk-parallel-item:last-child::after {align-self: flex-start;width: 50%;}#sk-container-id-68 div.sk-parallel-item:only-child::after {width: 0;}#sk-container-id-68 div.sk-dashed-wrapped {border: 1px dashed gray;margin: 0 0.4em 0.5em 0.4em;box-sizing: border-box;padding-bottom: 0.4em;background-color: white;}#sk-container-id-68 div.sk-label label {font-family: monospace;font-weight: bold;display: inline-block;line-height: 1.2em;}#sk-container-id-68 div.sk-label-container {text-align: center;}#sk-container-id-68 div.sk-container {/* jupyter's `normalize.less` sets `[hidden] { display: none; }` but bootstrap.min.css set `[hidden] { display: none !important; }` so we also need the `!important` here to be able to override the default hidden behavior on the sphinx rendered scikit-learn.org. See: https://github.com/scikit-learn/scikit-learn/issues/21755 */display: inline-block !important;position: relative;}#sk-container-id-68 div.sk-text-repr-fallback {display: none;}</style><div id=\"sk-container-id-68\" class=\"sk-top-container\"><div class=\"sk-text-repr-fallback\"><pre>LogisticRegression(random_state=11)</pre><b>In a Jupyter environment, please rerun this cell to show the HTML representation or trust the notebook. <br />On GitHub, the HTML representation is unable to render, please try loading this page with nbviewer.org.</b></div><div class=\"sk-container\" hidden><div class=\"sk-item\"><div class=\"sk-estimator sk-toggleable\"><input class=\"sk-toggleable__control sk-hidden--visually\" id=\"sk-estimator-id-80\" type=\"checkbox\" checked><label for=\"sk-estimator-id-80\" class=\"sk-toggleable__label sk-toggleable__label-arrow\">LogisticRegression</label><div class=\"sk-toggleable__content\"><pre>LogisticRegression(random_state=11)</pre></div></div></div></div></div>"
      ],
      "text/plain": [
       "LogisticRegression(random_state=11)"
      ]
     },
     "execution_count": 224,
     "metadata": {},
     "output_type": "execute_result"
    }
   ],
   "source": [
    "from sklearn.linear_model import LogisticRegression\n",
    "\n",
    "# max_iter 늘려줘야함\n",
    "log_reg = LogisticRegression(random_state=seed, solver='lbfgs', max_iter=100) # 로지스틱 회귀 모델\n",
    "log_reg.fit(X_train, y_train)"
   ]
  },
  {
   "cell_type": "code",
   "execution_count": 225,
   "id": "a89d14b9",
   "metadata": {},
   "outputs": [
    {
     "data": {
      "text/plain": [
       "0.9583333333333334"
      ]
     },
     "execution_count": 225,
     "metadata": {},
     "output_type": "execute_result"
    }
   ],
   "source": [
    "log_reg.score(X_test, y_test) # 테스트 데이터셋이 따로 있었다면 테스트 데이터셋으로 정확도 확인"
   ]
  },
  {
   "cell_type": "code",
   "execution_count": 281,
   "id": "88298492",
   "metadata": {},
   "outputs": [
    {
     "data": {
      "text/plain": [
       "array([2], dtype=int64)"
      ]
     },
     "execution_count": 281,
     "metadata": {},
     "output_type": "execute_result"
    }
   ],
   "source": [
    "log_reg.predict([[3180, 0.001, 0.35, 11.76, 6, 5]]) # 새로운 샘플에 대한 예측"
   ]
  },
  {
   "cell_type": "markdown",
   "id": "b400f30a",
   "metadata": {},
   "source": [
    "소프트맥스 회귀"
   ]
  },
  {
   "cell_type": "code",
   "execution_count": 227,
   "id": "4f345c8e",
   "metadata": {},
   "outputs": [
    {
     "data": {
      "text/html": [
       "<style>#sk-container-id-69 {color: black;background-color: white;}#sk-container-id-69 pre{padding: 0;}#sk-container-id-69 div.sk-toggleable {background-color: white;}#sk-container-id-69 label.sk-toggleable__label {cursor: pointer;display: block;width: 100%;margin-bottom: 0;padding: 0.3em;box-sizing: border-box;text-align: center;}#sk-container-id-69 label.sk-toggleable__label-arrow:before {content: \"▸\";float: left;margin-right: 0.25em;color: #696969;}#sk-container-id-69 label.sk-toggleable__label-arrow:hover:before {color: black;}#sk-container-id-69 div.sk-estimator:hover label.sk-toggleable__label-arrow:before {color: black;}#sk-container-id-69 div.sk-toggleable__content {max-height: 0;max-width: 0;overflow: hidden;text-align: left;background-color: #f0f8ff;}#sk-container-id-69 div.sk-toggleable__content pre {margin: 0.2em;color: black;border-radius: 0.25em;background-color: #f0f8ff;}#sk-container-id-69 input.sk-toggleable__control:checked~div.sk-toggleable__content {max-height: 200px;max-width: 100%;overflow: auto;}#sk-container-id-69 input.sk-toggleable__control:checked~label.sk-toggleable__label-arrow:before {content: \"▾\";}#sk-container-id-69 div.sk-estimator input.sk-toggleable__control:checked~label.sk-toggleable__label {background-color: #d4ebff;}#sk-container-id-69 div.sk-label input.sk-toggleable__control:checked~label.sk-toggleable__label {background-color: #d4ebff;}#sk-container-id-69 input.sk-hidden--visually {border: 0;clip: rect(1px 1px 1px 1px);clip: rect(1px, 1px, 1px, 1px);height: 1px;margin: -1px;overflow: hidden;padding: 0;position: absolute;width: 1px;}#sk-container-id-69 div.sk-estimator {font-family: monospace;background-color: #f0f8ff;border: 1px dotted black;border-radius: 0.25em;box-sizing: border-box;margin-bottom: 0.5em;}#sk-container-id-69 div.sk-estimator:hover {background-color: #d4ebff;}#sk-container-id-69 div.sk-parallel-item::after {content: \"\";width: 100%;border-bottom: 1px solid gray;flex-grow: 1;}#sk-container-id-69 div.sk-label:hover label.sk-toggleable__label {background-color: #d4ebff;}#sk-container-id-69 div.sk-serial::before {content: \"\";position: absolute;border-left: 1px solid gray;box-sizing: border-box;top: 0;bottom: 0;left: 50%;z-index: 0;}#sk-container-id-69 div.sk-serial {display: flex;flex-direction: column;align-items: center;background-color: white;padding-right: 0.2em;padding-left: 0.2em;position: relative;}#sk-container-id-69 div.sk-item {position: relative;z-index: 1;}#sk-container-id-69 div.sk-parallel {display: flex;align-items: stretch;justify-content: center;background-color: white;position: relative;}#sk-container-id-69 div.sk-item::before, #sk-container-id-69 div.sk-parallel-item::before {content: \"\";position: absolute;border-left: 1px solid gray;box-sizing: border-box;top: 0;bottom: 0;left: 50%;z-index: -1;}#sk-container-id-69 div.sk-parallel-item {display: flex;flex-direction: column;z-index: 1;position: relative;background-color: white;}#sk-container-id-69 div.sk-parallel-item:first-child::after {align-self: flex-end;width: 50%;}#sk-container-id-69 div.sk-parallel-item:last-child::after {align-self: flex-start;width: 50%;}#sk-container-id-69 div.sk-parallel-item:only-child::after {width: 0;}#sk-container-id-69 div.sk-dashed-wrapped {border: 1px dashed gray;margin: 0 0.4em 0.5em 0.4em;box-sizing: border-box;padding-bottom: 0.4em;background-color: white;}#sk-container-id-69 div.sk-label label {font-family: monospace;font-weight: bold;display: inline-block;line-height: 1.2em;}#sk-container-id-69 div.sk-label-container {text-align: center;}#sk-container-id-69 div.sk-container {/* jupyter's `normalize.less` sets `[hidden] { display: none; }` but bootstrap.min.css set `[hidden] { display: none !important; }` so we also need the `!important` here to be able to override the default hidden behavior on the sphinx rendered scikit-learn.org. See: https://github.com/scikit-learn/scikit-learn/issues/21755 */display: inline-block !important;position: relative;}#sk-container-id-69 div.sk-text-repr-fallback {display: none;}</style><div id=\"sk-container-id-69\" class=\"sk-top-container\"><div class=\"sk-text-repr-fallback\"><pre>LogisticRegression(multi_class=&#x27;multinomial&#x27;, random_state=11)</pre><b>In a Jupyter environment, please rerun this cell to show the HTML representation or trust the notebook. <br />On GitHub, the HTML representation is unable to render, please try loading this page with nbviewer.org.</b></div><div class=\"sk-container\" hidden><div class=\"sk-item\"><div class=\"sk-estimator sk-toggleable\"><input class=\"sk-toggleable__control sk-hidden--visually\" id=\"sk-estimator-id-81\" type=\"checkbox\" checked><label for=\"sk-estimator-id-81\" class=\"sk-toggleable__label sk-toggleable__label-arrow\">LogisticRegression</label><div class=\"sk-toggleable__content\"><pre>LogisticRegression(multi_class=&#x27;multinomial&#x27;, random_state=11)</pre></div></div></div></div></div>"
      ],
      "text/plain": [
       "LogisticRegression(multi_class='multinomial', random_state=11)"
      ]
     },
     "execution_count": 227,
     "metadata": {},
     "output_type": "execute_result"
    }
   ],
   "source": [
    "# C: 규제 파라미터(양의 실수). 기본값 1.0. 값이 적을수록 더 강한 규제를 의미함.\n",
    "softmax_reg = LogisticRegression(multi_class='multinomial', solver='lbfgs', max_iter=100, C=1.0, random_state=seed)\n",
    "softmax_reg.fit(X_train, y_train)"
   ]
  },
  {
   "cell_type": "code",
   "execution_count": 228,
   "id": "d126d54e",
   "metadata": {},
   "outputs": [
    {
     "data": {
      "text/plain": [
       "0.9583333333333334"
      ]
     },
     "execution_count": 228,
     "metadata": {},
     "output_type": "execute_result"
    }
   ],
   "source": [
    "softmax_reg.score(X_test, y_test) # 테스트 데이터셋이 따로 있었다면 테스트 데이터셋으로 정확도 확인"
   ]
  },
  {
   "cell_type": "code",
   "execution_count": 283,
   "id": "966c22ac",
   "metadata": {},
   "outputs": [
    {
     "data": {
      "text/plain": [
       "array([4, 2], dtype=int64)"
      ]
     },
     "execution_count": 283,
     "metadata": {},
     "output_type": "execute_result"
    }
   ],
   "source": [
    "softmax_reg.predict([[3459, 100000, 1289, -10.7, 6, 5], [3511, 0.00064, 0.109, 17.12, 6, 5]]) # 신규 데이터에 대한 예측"
   ]
  },
  {
   "cell_type": "markdown",
   "id": "e86b6622",
   "metadata": {},
   "source": [
    "결정 트리"
   ]
  },
  {
   "cell_type": "code",
   "execution_count": 247,
   "id": "d867ae25",
   "metadata": {},
   "outputs": [
    {
     "data": {
      "text/html": [
       "<style>#sk-container-id-73 {color: black;background-color: white;}#sk-container-id-73 pre{padding: 0;}#sk-container-id-73 div.sk-toggleable {background-color: white;}#sk-container-id-73 label.sk-toggleable__label {cursor: pointer;display: block;width: 100%;margin-bottom: 0;padding: 0.3em;box-sizing: border-box;text-align: center;}#sk-container-id-73 label.sk-toggleable__label-arrow:before {content: \"▸\";float: left;margin-right: 0.25em;color: #696969;}#sk-container-id-73 label.sk-toggleable__label-arrow:hover:before {color: black;}#sk-container-id-73 div.sk-estimator:hover label.sk-toggleable__label-arrow:before {color: black;}#sk-container-id-73 div.sk-toggleable__content {max-height: 0;max-width: 0;overflow: hidden;text-align: left;background-color: #f0f8ff;}#sk-container-id-73 div.sk-toggleable__content pre {margin: 0.2em;color: black;border-radius: 0.25em;background-color: #f0f8ff;}#sk-container-id-73 input.sk-toggleable__control:checked~div.sk-toggleable__content {max-height: 200px;max-width: 100%;overflow: auto;}#sk-container-id-73 input.sk-toggleable__control:checked~label.sk-toggleable__label-arrow:before {content: \"▾\";}#sk-container-id-73 div.sk-estimator input.sk-toggleable__control:checked~label.sk-toggleable__label {background-color: #d4ebff;}#sk-container-id-73 div.sk-label input.sk-toggleable__control:checked~label.sk-toggleable__label {background-color: #d4ebff;}#sk-container-id-73 input.sk-hidden--visually {border: 0;clip: rect(1px 1px 1px 1px);clip: rect(1px, 1px, 1px, 1px);height: 1px;margin: -1px;overflow: hidden;padding: 0;position: absolute;width: 1px;}#sk-container-id-73 div.sk-estimator {font-family: monospace;background-color: #f0f8ff;border: 1px dotted black;border-radius: 0.25em;box-sizing: border-box;margin-bottom: 0.5em;}#sk-container-id-73 div.sk-estimator:hover {background-color: #d4ebff;}#sk-container-id-73 div.sk-parallel-item::after {content: \"\";width: 100%;border-bottom: 1px solid gray;flex-grow: 1;}#sk-container-id-73 div.sk-label:hover label.sk-toggleable__label {background-color: #d4ebff;}#sk-container-id-73 div.sk-serial::before {content: \"\";position: absolute;border-left: 1px solid gray;box-sizing: border-box;top: 0;bottom: 0;left: 50%;z-index: 0;}#sk-container-id-73 div.sk-serial {display: flex;flex-direction: column;align-items: center;background-color: white;padding-right: 0.2em;padding-left: 0.2em;position: relative;}#sk-container-id-73 div.sk-item {position: relative;z-index: 1;}#sk-container-id-73 div.sk-parallel {display: flex;align-items: stretch;justify-content: center;background-color: white;position: relative;}#sk-container-id-73 div.sk-item::before, #sk-container-id-73 div.sk-parallel-item::before {content: \"\";position: absolute;border-left: 1px solid gray;box-sizing: border-box;top: 0;bottom: 0;left: 50%;z-index: -1;}#sk-container-id-73 div.sk-parallel-item {display: flex;flex-direction: column;z-index: 1;position: relative;background-color: white;}#sk-container-id-73 div.sk-parallel-item:first-child::after {align-self: flex-end;width: 50%;}#sk-container-id-73 div.sk-parallel-item:last-child::after {align-self: flex-start;width: 50%;}#sk-container-id-73 div.sk-parallel-item:only-child::after {width: 0;}#sk-container-id-73 div.sk-dashed-wrapped {border: 1px dashed gray;margin: 0 0.4em 0.5em 0.4em;box-sizing: border-box;padding-bottom: 0.4em;background-color: white;}#sk-container-id-73 div.sk-label label {font-family: monospace;font-weight: bold;display: inline-block;line-height: 1.2em;}#sk-container-id-73 div.sk-label-container {text-align: center;}#sk-container-id-73 div.sk-container {/* jupyter's `normalize.less` sets `[hidden] { display: none; }` but bootstrap.min.css set `[hidden] { display: none !important; }` so we also need the `!important` here to be able to override the default hidden behavior on the sphinx rendered scikit-learn.org. See: https://github.com/scikit-learn/scikit-learn/issues/21755 */display: inline-block !important;position: relative;}#sk-container-id-73 div.sk-text-repr-fallback {display: none;}</style><div id=\"sk-container-id-73\" class=\"sk-top-container\"><div class=\"sk-text-repr-fallback\"><pre>DecisionTreeClassifier(max_depth=5, random_state=11)</pre><b>In a Jupyter environment, please rerun this cell to show the HTML representation or trust the notebook. <br />On GitHub, the HTML representation is unable to render, please try loading this page with nbviewer.org.</b></div><div class=\"sk-container\" hidden><div class=\"sk-item\"><div class=\"sk-estimator sk-toggleable\"><input class=\"sk-toggleable__control sk-hidden--visually\" id=\"sk-estimator-id-88\" type=\"checkbox\" checked><label for=\"sk-estimator-id-88\" class=\"sk-toggleable__label sk-toggleable__label-arrow\">DecisionTreeClassifier</label><div class=\"sk-toggleable__content\"><pre>DecisionTreeClassifier(max_depth=5, random_state=11)</pre></div></div></div></div></div>"
      ],
      "text/plain": [
       "DecisionTreeClassifier(max_depth=5, random_state=11)"
      ]
     },
     "execution_count": 247,
     "metadata": {},
     "output_type": "execute_result"
    }
   ],
   "source": [
    "from sklearn.tree import DecisionTreeClassifier\n",
    "\n",
    "# 불순도 측정 방법을 별도로 지정하지 않으면 지니 불순도가 기본 값으로 사용됨\n",
    "tree_clf = DecisionTreeClassifier(max_depth=5, random_state=seed)\n",
    "tree_clf.fit(X_train, y_train)  # 결정 트리 학습"
   ]
  },
  {
   "cell_type": "code",
   "execution_count": 248,
   "id": "8a830789",
   "metadata": {},
   "outputs": [
    {
     "data": {
      "image/svg+xml": "<?xml version=\"1.0\" encoding=\"UTF-8\" standalone=\"no\"?>\n<!DOCTYPE svg PUBLIC \"-//W3C//DTD SVG 1.1//EN\"\n \"http://www.w3.org/Graphics/SVG/1.1/DTD/svg11.dtd\">\n<!-- Generated by graphviz version 2.50.0 (0)\n -->\n<!-- Title: Tree Pages: 1 -->\n<svg width=\"571pt\" height=\"671pt\"\n viewBox=\"0.00 0.00 571.00 671.00\" xmlns=\"http://www.w3.org/2000/svg\" xmlns:xlink=\"http://www.w3.org/1999/xlink\">\n<g id=\"graph0\" class=\"graph\" transform=\"scale(1 1) rotate(0) translate(4 667)\">\n<title>Tree</title>\n<polygon fill=\"white\" stroke=\"transparent\" points=\"-4,4 -4,-667 567,-667 567,4 -4,4\"/>\n<!-- 0 -->\n<g id=\"node1\" class=\"node\">\n<title>0</title>\n<path fill=\"#fffefe\" stroke=\"black\" d=\"M279.5,-663C279.5,-663 76.5,-663 76.5,-663 70.5,-663 64.5,-657 64.5,-651 64.5,-651 64.5,-592 64.5,-592 64.5,-586 70.5,-580 76.5,-580 76.5,-580 279.5,-580 279.5,-580 285.5,-580 291.5,-586 291.5,-592 291.5,-592 291.5,-651 291.5,-651 291.5,-657 285.5,-663 279.5,-663\"/>\n<text text-anchor=\"middle\" x=\"178\" y=\"-647.8\" font-family=\"Helvetica,sans-Serif\" font-size=\"14.00\">Absolute Magnitude(Mv) &lt;= &#45;1.132</text>\n<text text-anchor=\"middle\" x=\"178\" y=\"-632.8\" font-family=\"Helvetica,sans-Serif\" font-size=\"14.00\">gini = 0.833</text>\n<text text-anchor=\"middle\" x=\"178\" y=\"-617.8\" font-family=\"Helvetica,sans-Serif\" font-size=\"14.00\">samples = 192</text>\n<text text-anchor=\"middle\" x=\"178\" y=\"-602.8\" font-family=\"Helvetica,sans-Serif\" font-size=\"14.00\">value = [33, 33, 33, 31, 28, 34]</text>\n<text text-anchor=\"middle\" x=\"178\" y=\"-587.8\" font-family=\"Helvetica,sans-Serif\" font-size=\"14.00\">class = &#160;</text>\n</g>\n<!-- 1 -->\n<g id=\"node2\" class=\"node\">\n<title>1</title>\n<path fill=\"#e5399d\" stroke=\"black\" d=\"M150,-536.5C150,-536.5 12,-536.5 12,-536.5 6,-536.5 0,-530.5 0,-524.5 0,-524.5 0,-480.5 0,-480.5 0,-474.5 6,-468.5 12,-468.5 12,-468.5 150,-468.5 150,-468.5 156,-468.5 162,-474.5 162,-480.5 162,-480.5 162,-524.5 162,-524.5 162,-530.5 156,-536.5 150,-536.5\"/>\n<text text-anchor=\"middle\" x=\"81\" y=\"-521.3\" font-family=\"Helvetica,sans-Serif\" font-size=\"14.00\">gini = 0.0</text>\n<text text-anchor=\"middle\" x=\"81\" y=\"-506.3\" font-family=\"Helvetica,sans-Serif\" font-size=\"14.00\">samples = 34</text>\n<text text-anchor=\"middle\" x=\"81\" y=\"-491.3\" font-family=\"Helvetica,sans-Serif\" font-size=\"14.00\">value = [0, 0, 0, 0, 0, 34]</text>\n<text text-anchor=\"middle\" x=\"81\" y=\"-476.3\" font-family=\"Helvetica,sans-Serif\" font-size=\"14.00\">class = &#160;</text>\n</g>\n<!-- 0&#45;&gt;1 -->\n<g id=\"edge1\" class=\"edge\">\n<title>0&#45;&gt;1</title>\n<path fill=\"none\" stroke=\"black\" d=\"M144.35,-579.91C134.83,-568.43 124.47,-555.94 114.94,-544.44\"/>\n<polygon fill=\"black\" stroke=\"black\" points=\"117.57,-542.13 108.5,-536.67 112.19,-546.6 117.57,-542.13\"/>\n<text text-anchor=\"middle\" x=\"106.17\" y=\"-557.86\" font-family=\"Helvetica,sans-Serif\" font-size=\"14.00\">True</text>\n</g>\n<!-- 2 -->\n<g id=\"node3\" class=\"node\">\n<title>2</title>\n<path fill=\"#ffffff\" stroke=\"black\" d=\"M360,-544C360,-544 192,-544 192,-544 186,-544 180,-538 180,-532 180,-532 180,-473 180,-473 180,-467 186,-461 192,-461 192,-461 360,-461 360,-461 366,-461 372,-467 372,-473 372,-473 372,-532 372,-532 372,-538 366,-544 360,-544\"/>\n<text text-anchor=\"middle\" x=\"276\" y=\"-528.8\" font-family=\"Helvetica,sans-Serif\" font-size=\"14.00\">Radius(R/Ro) &lt;= &#45;0.459</text>\n<text text-anchor=\"middle\" x=\"276\" y=\"-513.8\" font-family=\"Helvetica,sans-Serif\" font-size=\"14.00\">gini = 0.799</text>\n<text text-anchor=\"middle\" x=\"276\" y=\"-498.8\" font-family=\"Helvetica,sans-Serif\" font-size=\"14.00\">samples = 158</text>\n<text text-anchor=\"middle\" x=\"276\" y=\"-483.8\" font-family=\"Helvetica,sans-Serif\" font-size=\"14.00\">value = [33, 33, 33, 31, 28, 0]</text>\n<text text-anchor=\"middle\" x=\"276\" y=\"-468.8\" font-family=\"Helvetica,sans-Serif\" font-size=\"14.00\">class = 0</text>\n</g>\n<!-- 0&#45;&gt;2 -->\n<g id=\"edge2\" class=\"edge\">\n<title>0&#45;&gt;2</title>\n<path fill=\"none\" stroke=\"black\" d=\"M212,-579.91C219.6,-570.83 227.74,-561.12 235.57,-551.77\"/>\n<polygon fill=\"black\" stroke=\"black\" points=\"238.32,-553.93 242.06,-544.02 232.96,-549.44 238.32,-553.93\"/>\n<text text-anchor=\"middle\" x=\"244.26\" y=\"-565.22\" font-family=\"Helvetica,sans-Serif\" font-size=\"14.00\">False</text>\n</g>\n<!-- 3 -->\n<g id=\"node4\" class=\"node\">\n<title>3</title>\n<path fill=\"#39e581\" stroke=\"black\" d=\"M240,-417.5C240,-417.5 102,-417.5 102,-417.5 96,-417.5 90,-411.5 90,-405.5 90,-405.5 90,-361.5 90,-361.5 90,-355.5 96,-349.5 102,-349.5 102,-349.5 240,-349.5 240,-349.5 246,-349.5 252,-355.5 252,-361.5 252,-361.5 252,-405.5 252,-405.5 252,-411.5 246,-417.5 240,-417.5\"/>\n<text text-anchor=\"middle\" x=\"171\" y=\"-402.3\" font-family=\"Helvetica,sans-Serif\" font-size=\"14.00\">gini = 0.0</text>\n<text text-anchor=\"middle\" x=\"171\" y=\"-387.3\" font-family=\"Helvetica,sans-Serif\" font-size=\"14.00\">samples = 33</text>\n<text text-anchor=\"middle\" x=\"171\" y=\"-372.3\" font-family=\"Helvetica,sans-Serif\" font-size=\"14.00\">value = [0, 0, 33, 0, 0, 0]</text>\n<text text-anchor=\"middle\" x=\"171\" y=\"-357.3\" font-family=\"Helvetica,sans-Serif\" font-size=\"14.00\">class = &#160;</text>\n</g>\n<!-- 2&#45;&gt;3 -->\n<g id=\"edge3\" class=\"edge\">\n<title>2&#45;&gt;3</title>\n<path fill=\"none\" stroke=\"black\" d=\"M239.57,-460.91C229.17,-449.32 217.84,-436.7 207.45,-425.11\"/>\n<polygon fill=\"black\" stroke=\"black\" points=\"210.05,-422.77 200.77,-417.67 204.84,-427.45 210.05,-422.77\"/>\n</g>\n<!-- 4 -->\n<g id=\"node5\" class=\"node\">\n<title>4</title>\n<path fill=\"#ffffff\" stroke=\"black\" d=\"M480,-425C480,-425 282,-425 282,-425 276,-425 270,-419 270,-413 270,-413 270,-354 270,-354 270,-348 276,-342 282,-342 282,-342 480,-342 480,-342 486,-342 492,-348 492,-354 492,-354 492,-413 492,-413 492,-419 486,-425 480,-425\"/>\n<text text-anchor=\"middle\" x=\"381\" y=\"-409.8\" font-family=\"Helvetica,sans-Serif\" font-size=\"14.00\">Absolute Magnitude(Mv) &lt;= 1.052</text>\n<text text-anchor=\"middle\" x=\"381\" y=\"-394.8\" font-family=\"Helvetica,sans-Serif\" font-size=\"14.00\">gini = 0.749</text>\n<text text-anchor=\"middle\" x=\"381\" y=\"-379.8\" font-family=\"Helvetica,sans-Serif\" font-size=\"14.00\">samples = 125</text>\n<text text-anchor=\"middle\" x=\"381\" y=\"-364.8\" font-family=\"Helvetica,sans-Serif\" font-size=\"14.00\">value = [33, 33, 0, 31, 28, 0]</text>\n<text text-anchor=\"middle\" x=\"381\" y=\"-349.8\" font-family=\"Helvetica,sans-Serif\" font-size=\"14.00\">class = 0</text>\n</g>\n<!-- 2&#45;&gt;4 -->\n<g id=\"edge4\" class=\"edge\">\n<title>2&#45;&gt;4</title>\n<path fill=\"none\" stroke=\"black\" d=\"M312.43,-460.91C320.65,-451.74 329.46,-441.93 337.93,-432.49\"/>\n<polygon fill=\"black\" stroke=\"black\" points=\"340.56,-434.8 344.64,-425.02 335.35,-430.13 340.56,-434.8\"/>\n</g>\n<!-- 5 -->\n<g id=\"node6\" class=\"node\">\n<title>5</title>\n<path fill=\"#fcfef9\" stroke=\"black\" d=\"M363.5,-306C363.5,-306 210.5,-306 210.5,-306 204.5,-306 198.5,-300 198.5,-294 198.5,-294 198.5,-235 198.5,-235 198.5,-229 204.5,-223 210.5,-223 210.5,-223 363.5,-223 363.5,-223 369.5,-223 375.5,-229 375.5,-235 375.5,-235 375.5,-294 375.5,-294 375.5,-300 369.5,-306 363.5,-306\"/>\n<text text-anchor=\"middle\" x=\"287\" y=\"-290.8\" font-family=\"Helvetica,sans-Serif\" font-size=\"14.00\">Radius(R/Ro) &lt;= &#45;0.458</text>\n<text text-anchor=\"middle\" x=\"287\" y=\"-275.8\" font-family=\"Helvetica,sans-Serif\" font-size=\"14.00\">gini = 0.665</text>\n<text text-anchor=\"middle\" x=\"287\" y=\"-260.8\" font-family=\"Helvetica,sans-Serif\" font-size=\"14.00\">samples = 92</text>\n<text text-anchor=\"middle\" x=\"287\" y=\"-245.8\" font-family=\"Helvetica,sans-Serif\" font-size=\"14.00\">value = [0, 33, 0, 31, 28, 0]</text>\n<text text-anchor=\"middle\" x=\"287\" y=\"-230.8\" font-family=\"Helvetica,sans-Serif\" font-size=\"14.00\">class = &#160;</text>\n</g>\n<!-- 4&#45;&gt;5 -->\n<g id=\"edge5\" class=\"edge\">\n<title>4&#45;&gt;5</title>\n<path fill=\"none\" stroke=\"black\" d=\"M348.39,-341.91C341.17,-332.92 333.45,-323.32 326.01,-314.05\"/>\n<polygon fill=\"black\" stroke=\"black\" points=\"328.55,-311.62 319.56,-306.02 323.09,-316.01 328.55,-311.62\"/>\n</g>\n<!-- 10 -->\n<g id=\"node11\" class=\"node\">\n<title>10</title>\n<path fill=\"#e58139\" stroke=\"black\" d=\"M544,-298.5C544,-298.5 406,-298.5 406,-298.5 400,-298.5 394,-292.5 394,-286.5 394,-286.5 394,-242.5 394,-242.5 394,-236.5 400,-230.5 406,-230.5 406,-230.5 544,-230.5 544,-230.5 550,-230.5 556,-236.5 556,-242.5 556,-242.5 556,-286.5 556,-286.5 556,-292.5 550,-298.5 544,-298.5\"/>\n<text text-anchor=\"middle\" x=\"475\" y=\"-283.3\" font-family=\"Helvetica,sans-Serif\" font-size=\"14.00\">gini = 0.0</text>\n<text text-anchor=\"middle\" x=\"475\" y=\"-268.3\" font-family=\"Helvetica,sans-Serif\" font-size=\"14.00\">samples = 33</text>\n<text text-anchor=\"middle\" x=\"475\" y=\"-253.3\" font-family=\"Helvetica,sans-Serif\" font-size=\"14.00\">value = [33, 0, 0, 0, 0, 0]</text>\n<text text-anchor=\"middle\" x=\"475\" y=\"-238.3\" font-family=\"Helvetica,sans-Serif\" font-size=\"14.00\">class = 0</text>\n</g>\n<!-- 4&#45;&gt;10 -->\n<g id=\"edge10\" class=\"edge\">\n<title>4&#45;&gt;10</title>\n<path fill=\"none\" stroke=\"black\" d=\"M413.61,-341.91C422.74,-330.54 432.68,-318.18 441.84,-306.77\"/>\n<polygon fill=\"black\" stroke=\"black\" points=\"444.82,-308.65 448.35,-298.67 439.36,-304.27 444.82,-308.65\"/>\n</g>\n<!-- 6 -->\n<g id=\"node7\" class=\"node\">\n<title>6</title>\n<path fill=\"#9de539\" stroke=\"black\" d=\"M252,-179.5C252,-179.5 114,-179.5 114,-179.5 108,-179.5 102,-173.5 102,-167.5 102,-167.5 102,-123.5 102,-123.5 102,-117.5 108,-111.5 114,-111.5 114,-111.5 252,-111.5 252,-111.5 258,-111.5 264,-117.5 264,-123.5 264,-123.5 264,-167.5 264,-167.5 264,-173.5 258,-179.5 252,-179.5\"/>\n<text text-anchor=\"middle\" x=\"183\" y=\"-164.3\" font-family=\"Helvetica,sans-Serif\" font-size=\"14.00\">gini = 0.0</text>\n<text text-anchor=\"middle\" x=\"183\" y=\"-149.3\" font-family=\"Helvetica,sans-Serif\" font-size=\"14.00\">samples = 33</text>\n<text text-anchor=\"middle\" x=\"183\" y=\"-134.3\" font-family=\"Helvetica,sans-Serif\" font-size=\"14.00\">value = [0, 33, 0, 0, 0, 0]</text>\n<text text-anchor=\"middle\" x=\"183\" y=\"-119.3\" font-family=\"Helvetica,sans-Serif\" font-size=\"14.00\">class = &#160;</text>\n</g>\n<!-- 5&#45;&gt;6 -->\n<g id=\"edge6\" class=\"edge\">\n<title>5&#45;&gt;6</title>\n<path fill=\"none\" stroke=\"black\" d=\"M250.92,-222.91C240.72,-211.43 229.61,-198.94 219.39,-187.44\"/>\n<polygon fill=\"black\" stroke=\"black\" points=\"221.74,-184.82 212.48,-179.67 216.51,-189.47 221.74,-184.82\"/>\n</g>\n<!-- 7 -->\n<g id=\"node8\" class=\"node\">\n<title>7</title>\n<path fill=\"#ecf6fc\" stroke=\"black\" d=\"M489.5,-187C489.5,-187 294.5,-187 294.5,-187 288.5,-187 282.5,-181 282.5,-175 282.5,-175 282.5,-116 282.5,-116 282.5,-110 288.5,-104 294.5,-104 294.5,-104 489.5,-104 489.5,-104 495.5,-104 501.5,-110 501.5,-116 501.5,-116 501.5,-175 501.5,-175 501.5,-181 495.5,-187 489.5,-187\"/>\n<text text-anchor=\"middle\" x=\"392\" y=\"-171.8\" font-family=\"Helvetica,sans-Serif\" font-size=\"14.00\">Absolute Magnitude(Mv) &lt;= &#45;0.89</text>\n<text text-anchor=\"middle\" x=\"392\" y=\"-156.8\" font-family=\"Helvetica,sans-Serif\" font-size=\"14.00\">gini = 0.499</text>\n<text text-anchor=\"middle\" x=\"392\" y=\"-141.8\" font-family=\"Helvetica,sans-Serif\" font-size=\"14.00\">samples = 59</text>\n<text text-anchor=\"middle\" x=\"392\" y=\"-126.8\" font-family=\"Helvetica,sans-Serif\" font-size=\"14.00\">value = [0, 0, 0, 31, 28, 0]</text>\n<text text-anchor=\"middle\" x=\"392\" y=\"-111.8\" font-family=\"Helvetica,sans-Serif\" font-size=\"14.00\">class = &#160;</text>\n</g>\n<!-- 5&#45;&gt;7 -->\n<g id=\"edge7\" class=\"edge\">\n<title>5&#45;&gt;7</title>\n<path fill=\"none\" stroke=\"black\" d=\"M323.43,-222.91C331.65,-213.74 340.46,-203.93 348.93,-194.49\"/>\n<polygon fill=\"black\" stroke=\"black\" points=\"351.56,-196.8 355.64,-187.02 346.35,-192.13 351.56,-196.8\"/>\n</g>\n<!-- 8 -->\n<g id=\"node9\" class=\"node\">\n<title>8</title>\n<path fill=\"#8139e5\" stroke=\"black\" d=\"M371,-68C371,-68 233,-68 233,-68 227,-68 221,-62 221,-56 221,-56 221,-12 221,-12 221,-6 227,0 233,0 233,0 371,0 371,0 377,0 383,-6 383,-12 383,-12 383,-56 383,-56 383,-62 377,-68 371,-68\"/>\n<text text-anchor=\"middle\" x=\"302\" y=\"-52.8\" font-family=\"Helvetica,sans-Serif\" font-size=\"14.00\">gini = 0.0</text>\n<text text-anchor=\"middle\" x=\"302\" y=\"-37.8\" font-family=\"Helvetica,sans-Serif\" font-size=\"14.00\">samples = 28</text>\n<text text-anchor=\"middle\" x=\"302\" y=\"-22.8\" font-family=\"Helvetica,sans-Serif\" font-size=\"14.00\">value = [0, 0, 0, 0, 28, 0]</text>\n<text text-anchor=\"middle\" x=\"302\" y=\"-7.8\" font-family=\"Helvetica,sans-Serif\" font-size=\"14.00\">class = &#160;</text>\n</g>\n<!-- 7&#45;&gt;8 -->\n<g id=\"edge8\" class=\"edge\">\n<title>7&#45;&gt;8</title>\n<path fill=\"none\" stroke=\"black\" d=\"M358.49,-103.73C351.07,-94.7 343.2,-85.12 335.77,-76.08\"/>\n<polygon fill=\"black\" stroke=\"black\" points=\"338.42,-73.8 329.37,-68.3 333.02,-78.25 338.42,-73.8\"/>\n</g>\n<!-- 9 -->\n<g id=\"node10\" class=\"node\">\n<title>9</title>\n<path fill=\"#399de5\" stroke=\"black\" d=\"M551,-68C551,-68 413,-68 413,-68 407,-68 401,-62 401,-56 401,-56 401,-12 401,-12 401,-6 407,0 413,0 413,0 551,0 551,0 557,0 563,-6 563,-12 563,-12 563,-56 563,-56 563,-62 557,-68 551,-68\"/>\n<text text-anchor=\"middle\" x=\"482\" y=\"-52.8\" font-family=\"Helvetica,sans-Serif\" font-size=\"14.00\">gini = 0.0</text>\n<text text-anchor=\"middle\" x=\"482\" y=\"-37.8\" font-family=\"Helvetica,sans-Serif\" font-size=\"14.00\">samples = 31</text>\n<text text-anchor=\"middle\" x=\"482\" y=\"-22.8\" font-family=\"Helvetica,sans-Serif\" font-size=\"14.00\">value = [0, 0, 0, 31, 0, 0]</text>\n<text text-anchor=\"middle\" x=\"482\" y=\"-7.8\" font-family=\"Helvetica,sans-Serif\" font-size=\"14.00\">class = &#160;</text>\n</g>\n<!-- 7&#45;&gt;9 -->\n<g id=\"edge9\" class=\"edge\">\n<title>7&#45;&gt;9</title>\n<path fill=\"none\" stroke=\"black\" d=\"M425.51,-103.73C432.93,-94.7 440.8,-85.12 448.23,-76.08\"/>\n<polygon fill=\"black\" stroke=\"black\" points=\"450.98,-78.25 454.63,-68.3 445.58,-73.8 450.98,-78.25\"/>\n</g>\n</g>\n</svg>\n",
      "text/plain": [
       "<graphviz.sources.Source at 0x23e72933c10>"
      ]
     },
     "execution_count": 248,
     "metadata": {},
     "output_type": "execute_result"
    }
   ],
   "source": [
    "# 결정 트리 학습 결과 시각화\n",
    "from sklearn.tree import export_graphviz\n",
    "from graphviz import Source\n",
    "\n",
    "export_graphviz(\n",
    "        tree_clf,\n",
    "        out_file=\"iris_tree.dot\",\n",
    "        feature_names=X.columns.tolist(),\n",
    "        class_names=str(y),\n",
    "        rounded=True,\n",
    "        filled=True\n",
    "    )\n",
    "\n",
    "Source.from_file(\"iris_tree.dot\")"
   ]
  },
  {
   "cell_type": "code",
   "execution_count": 249,
   "id": "1ce9567b",
   "metadata": {},
   "outputs": [
    {
     "data": {
      "text/plain": [
       "0.9791666666666666"
      ]
     },
     "execution_count": 249,
     "metadata": {},
     "output_type": "execute_result"
    }
   ],
   "source": [
    "tree_clf.score(X_test, y_test) # 테스트 데이터셋이 따로 있었다면 테스트 데이터셋으로 정확도 확인"
   ]
  },
  {
   "cell_type": "code",
   "execution_count": 257,
   "id": "e302161d",
   "metadata": {},
   "outputs": [
    {
     "data": {
      "text/plain": [
       "array([0, 0], dtype=int64)"
      ]
     },
     "execution_count": 257,
     "metadata": {},
     "output_type": "execute_result"
    }
   ],
   "source": [
    "tree_clf.predict([[3365, 0.00365, 0.25, 12.25, 6, 5], [8565, 15, 7.3, 5.5, 6, 3]]) # 신규 데이터에 대한 예측"
   ]
  },
  {
   "cell_type": "code",
   "execution_count": 258,
   "id": "fb8094c4",
   "metadata": {},
   "outputs": [
    {
     "data": {
      "text/plain": [
       "array([[1., 0., 0., 0., 0., 0.],\n",
       "       [1., 0., 0., 0., 0., 0.]])"
      ]
     },
     "execution_count": 258,
     "metadata": {},
     "output_type": "execute_result"
    }
   ],
   "source": [
    "tree_clf.predict_proba([[3365, 0.00365, 0.25, 12.25, 6, 5], [8565, 15, 7.3, 5.5, 6, 3]]) # 신규 데이터에 대한 예측"
   ]
  },
  {
   "cell_type": "code",
   "execution_count": 262,
   "id": "49e5d42e",
   "metadata": {},
   "outputs": [
    {
     "data": {
      "text/html": [
       "<style>#sk-container-id-77 {color: black;background-color: white;}#sk-container-id-77 pre{padding: 0;}#sk-container-id-77 div.sk-toggleable {background-color: white;}#sk-container-id-77 label.sk-toggleable__label {cursor: pointer;display: block;width: 100%;margin-bottom: 0;padding: 0.3em;box-sizing: border-box;text-align: center;}#sk-container-id-77 label.sk-toggleable__label-arrow:before {content: \"▸\";float: left;margin-right: 0.25em;color: #696969;}#sk-container-id-77 label.sk-toggleable__label-arrow:hover:before {color: black;}#sk-container-id-77 div.sk-estimator:hover label.sk-toggleable__label-arrow:before {color: black;}#sk-container-id-77 div.sk-toggleable__content {max-height: 0;max-width: 0;overflow: hidden;text-align: left;background-color: #f0f8ff;}#sk-container-id-77 div.sk-toggleable__content pre {margin: 0.2em;color: black;border-radius: 0.25em;background-color: #f0f8ff;}#sk-container-id-77 input.sk-toggleable__control:checked~div.sk-toggleable__content {max-height: 200px;max-width: 100%;overflow: auto;}#sk-container-id-77 input.sk-toggleable__control:checked~label.sk-toggleable__label-arrow:before {content: \"▾\";}#sk-container-id-77 div.sk-estimator input.sk-toggleable__control:checked~label.sk-toggleable__label {background-color: #d4ebff;}#sk-container-id-77 div.sk-label input.sk-toggleable__control:checked~label.sk-toggleable__label {background-color: #d4ebff;}#sk-container-id-77 input.sk-hidden--visually {border: 0;clip: rect(1px 1px 1px 1px);clip: rect(1px, 1px, 1px, 1px);height: 1px;margin: -1px;overflow: hidden;padding: 0;position: absolute;width: 1px;}#sk-container-id-77 div.sk-estimator {font-family: monospace;background-color: #f0f8ff;border: 1px dotted black;border-radius: 0.25em;box-sizing: border-box;margin-bottom: 0.5em;}#sk-container-id-77 div.sk-estimator:hover {background-color: #d4ebff;}#sk-container-id-77 div.sk-parallel-item::after {content: \"\";width: 100%;border-bottom: 1px solid gray;flex-grow: 1;}#sk-container-id-77 div.sk-label:hover label.sk-toggleable__label {background-color: #d4ebff;}#sk-container-id-77 div.sk-serial::before {content: \"\";position: absolute;border-left: 1px solid gray;box-sizing: border-box;top: 0;bottom: 0;left: 50%;z-index: 0;}#sk-container-id-77 div.sk-serial {display: flex;flex-direction: column;align-items: center;background-color: white;padding-right: 0.2em;padding-left: 0.2em;position: relative;}#sk-container-id-77 div.sk-item {position: relative;z-index: 1;}#sk-container-id-77 div.sk-parallel {display: flex;align-items: stretch;justify-content: center;background-color: white;position: relative;}#sk-container-id-77 div.sk-item::before, #sk-container-id-77 div.sk-parallel-item::before {content: \"\";position: absolute;border-left: 1px solid gray;box-sizing: border-box;top: 0;bottom: 0;left: 50%;z-index: -1;}#sk-container-id-77 div.sk-parallel-item {display: flex;flex-direction: column;z-index: 1;position: relative;background-color: white;}#sk-container-id-77 div.sk-parallel-item:first-child::after {align-self: flex-end;width: 50%;}#sk-container-id-77 div.sk-parallel-item:last-child::after {align-self: flex-start;width: 50%;}#sk-container-id-77 div.sk-parallel-item:only-child::after {width: 0;}#sk-container-id-77 div.sk-dashed-wrapped {border: 1px dashed gray;margin: 0 0.4em 0.5em 0.4em;box-sizing: border-box;padding-bottom: 0.4em;background-color: white;}#sk-container-id-77 div.sk-label label {font-family: monospace;font-weight: bold;display: inline-block;line-height: 1.2em;}#sk-container-id-77 div.sk-label-container {text-align: center;}#sk-container-id-77 div.sk-container {/* jupyter's `normalize.less` sets `[hidden] { display: none; }` but bootstrap.min.css set `[hidden] { display: none !important; }` so we also need the `!important` here to be able to override the default hidden behavior on the sphinx rendered scikit-learn.org. See: https://github.com/scikit-learn/scikit-learn/issues/21755 */display: inline-block !important;position: relative;}#sk-container-id-77 div.sk-text-repr-fallback {display: none;}</style><div id=\"sk-container-id-77\" class=\"sk-top-container\"><div class=\"sk-text-repr-fallback\"><pre>DecisionTreeClassifier(criterion=&#x27;entropy&#x27;, max_depth=5, random_state=11)</pre><b>In a Jupyter environment, please rerun this cell to show the HTML representation or trust the notebook. <br />On GitHub, the HTML representation is unable to render, please try loading this page with nbviewer.org.</b></div><div class=\"sk-container\" hidden><div class=\"sk-item\"><div class=\"sk-estimator sk-toggleable\"><input class=\"sk-toggleable__control sk-hidden--visually\" id=\"sk-estimator-id-92\" type=\"checkbox\" checked><label for=\"sk-estimator-id-92\" class=\"sk-toggleable__label sk-toggleable__label-arrow\">DecisionTreeClassifier</label><div class=\"sk-toggleable__content\"><pre>DecisionTreeClassifier(criterion=&#x27;entropy&#x27;, max_depth=5, random_state=11)</pre></div></div></div></div></div>"
      ],
      "text/plain": [
       "DecisionTreeClassifier(criterion='entropy', max_depth=5, random_state=11)"
      ]
     },
     "execution_count": 262,
     "metadata": {},
     "output_type": "execute_result"
    }
   ],
   "source": [
    "# 불순도 측정 방법을 엔트로피로 지정하여 학습\n",
    "tree_clf = DecisionTreeClassifier(criterion=\"entropy\", max_depth=5, random_state=seed)\n",
    "tree_clf.fit(X_train, y_train)"
   ]
  },
  {
   "cell_type": "code",
   "execution_count": 263,
   "id": "c33cd7fe",
   "metadata": {},
   "outputs": [
    {
     "data": {
      "image/svg+xml": "<?xml version=\"1.0\" encoding=\"UTF-8\" standalone=\"no\"?>\n<!DOCTYPE svg PUBLIC \"-//W3C//DTD SVG 1.1//EN\"\n \"http://www.w3.org/Graphics/SVG/1.1/DTD/svg11.dtd\">\n<!-- Generated by graphviz version 2.50.0 (0)\n -->\n<!-- Title: Tree Pages: 1 -->\n<svg width=\"928pt\" height=\"433pt\"\n viewBox=\"0.00 0.00 928.00 433.00\" xmlns=\"http://www.w3.org/2000/svg\" xmlns:xlink=\"http://www.w3.org/1999/xlink\">\n<g id=\"graph0\" class=\"graph\" transform=\"scale(1 1) rotate(0) translate(4 429)\">\n<title>Tree</title>\n<polygon fill=\"white\" stroke=\"transparent\" points=\"-4,4 -4,-429 924,-429 924,4 -4,4\"/>\n<!-- 0 -->\n<g id=\"node1\" class=\"node\">\n<title>0</title>\n<path fill=\"#fffefe\" stroke=\"black\" d=\"M547,-425C547,-425 349,-425 349,-425 343,-425 337,-419 337,-413 337,-413 337,-354 337,-354 337,-348 343,-342 349,-342 349,-342 547,-342 547,-342 553,-342 559,-348 559,-354 559,-354 559,-413 559,-413 559,-419 553,-425 547,-425\"/>\n<text text-anchor=\"middle\" x=\"448\" y=\"-409.8\" font-family=\"Helvetica,sans-Serif\" font-size=\"14.00\">Absolute Magnitude(Mv) &lt;= 0.384</text>\n<text text-anchor=\"middle\" x=\"448\" y=\"-394.8\" font-family=\"Helvetica,sans-Serif\" font-size=\"14.00\">entropy = 2.582</text>\n<text text-anchor=\"middle\" x=\"448\" y=\"-379.8\" font-family=\"Helvetica,sans-Serif\" font-size=\"14.00\">samples = 192</text>\n<text text-anchor=\"middle\" x=\"448\" y=\"-364.8\" font-family=\"Helvetica,sans-Serif\" font-size=\"14.00\">value = [33, 33, 33, 31, 28, 34]</text>\n<text text-anchor=\"middle\" x=\"448\" y=\"-349.8\" font-family=\"Helvetica,sans-Serif\" font-size=\"14.00\">class = &#160;</text>\n</g>\n<!-- 1 -->\n<g id=\"node2\" class=\"node\">\n<title>1</title>\n<path fill=\"#fef5fa\" stroke=\"black\" d=\"M427.5,-306C427.5,-306 274.5,-306 274.5,-306 268.5,-306 262.5,-300 262.5,-294 262.5,-294 262.5,-235 262.5,-235 262.5,-229 268.5,-223 274.5,-223 274.5,-223 427.5,-223 427.5,-223 433.5,-223 439.5,-229 439.5,-235 439.5,-235 439.5,-294 439.5,-294 439.5,-300 433.5,-306 427.5,-306\"/>\n<text text-anchor=\"middle\" x=\"351\" y=\"-290.8\" font-family=\"Helvetica,sans-Serif\" font-size=\"14.00\">Radius(R/Ro) &lt;= 0.322</text>\n<text text-anchor=\"middle\" x=\"351\" y=\"-275.8\" font-family=\"Helvetica,sans-Serif\" font-size=\"14.00\">entropy = 1.58</text>\n<text text-anchor=\"middle\" x=\"351\" y=\"-260.8\" font-family=\"Helvetica,sans-Serif\" font-size=\"14.00\">samples = 93</text>\n<text text-anchor=\"middle\" x=\"351\" y=\"-245.8\" font-family=\"Helvetica,sans-Serif\" font-size=\"14.00\">value = [0, 0, 0, 31, 28, 34]</text>\n<text text-anchor=\"middle\" x=\"351\" y=\"-230.8\" font-family=\"Helvetica,sans-Serif\" font-size=\"14.00\">class = &#160;</text>\n</g>\n<!-- 0&#45;&gt;1 -->\n<g id=\"edge1\" class=\"edge\">\n<title>0&#45;&gt;1</title>\n<path fill=\"none\" stroke=\"black\" d=\"M414.35,-341.91C406.82,-332.83 398.77,-323.12 391.02,-313.77\"/>\n<polygon fill=\"black\" stroke=\"black\" points=\"393.67,-311.49 384.59,-306.02 388.28,-315.95 393.67,-311.49\"/>\n<text text-anchor=\"middle\" x=\"382.27\" y=\"-327.21\" font-family=\"Helvetica,sans-Serif\" font-size=\"14.00\">True</text>\n</g>\n<!-- 6 -->\n<g id=\"node7\" class=\"node\">\n<title>6</title>\n<path fill=\"#ffffff\" stroke=\"black\" d=\"M622.5,-306C622.5,-306 469.5,-306 469.5,-306 463.5,-306 457.5,-300 457.5,-294 457.5,-294 457.5,-235 457.5,-235 457.5,-229 463.5,-223 469.5,-223 469.5,-223 622.5,-223 622.5,-223 628.5,-223 634.5,-229 634.5,-235 634.5,-235 634.5,-294 634.5,-294 634.5,-300 628.5,-306 622.5,-306\"/>\n<text text-anchor=\"middle\" x=\"546\" y=\"-290.8\" font-family=\"Helvetica,sans-Serif\" font-size=\"14.00\">Radius(R/Ro) &lt;= &#45;0.459</text>\n<text text-anchor=\"middle\" x=\"546\" y=\"-275.8\" font-family=\"Helvetica,sans-Serif\" font-size=\"14.00\">entropy = 1.585</text>\n<text text-anchor=\"middle\" x=\"546\" y=\"-260.8\" font-family=\"Helvetica,sans-Serif\" font-size=\"14.00\">samples = 99</text>\n<text text-anchor=\"middle\" x=\"546\" y=\"-245.8\" font-family=\"Helvetica,sans-Serif\" font-size=\"14.00\">value = [33, 33, 33, 0, 0, 0]</text>\n<text text-anchor=\"middle\" x=\"546\" y=\"-230.8\" font-family=\"Helvetica,sans-Serif\" font-size=\"14.00\">class = 0</text>\n</g>\n<!-- 0&#45;&gt;6 -->\n<g id=\"edge6\" class=\"edge\">\n<title>0&#45;&gt;6</title>\n<path fill=\"none\" stroke=\"black\" d=\"M482,-341.91C489.6,-332.83 497.74,-323.12 505.57,-313.77\"/>\n<polygon fill=\"black\" stroke=\"black\" points=\"508.32,-315.93 512.06,-306.02 502.96,-311.44 508.32,-315.93\"/>\n<text text-anchor=\"middle\" x=\"514.26\" y=\"-327.22\" font-family=\"Helvetica,sans-Serif\" font-size=\"14.00\">False</text>\n</g>\n<!-- 2 -->\n<g id=\"node3\" class=\"node\">\n<title>2</title>\n<path fill=\"#ecf6fc\" stroke=\"black\" d=\"M244,-187C244,-187 98,-187 98,-187 92,-187 86,-181 86,-175 86,-175 86,-116 86,-116 86,-110 92,-104 98,-104 98,-104 244,-104 244,-104 250,-104 256,-110 256,-116 256,-116 256,-175 256,-175 256,-181 250,-187 244,-187\"/>\n<text text-anchor=\"middle\" x=\"171\" y=\"-171.8\" font-family=\"Helvetica,sans-Serif\" font-size=\"14.00\">Radius(R/Ro) &lt;= &#45;0.438</text>\n<text text-anchor=\"middle\" x=\"171\" y=\"-156.8\" font-family=\"Helvetica,sans-Serif\" font-size=\"14.00\">entropy = 0.998</text>\n<text text-anchor=\"middle\" x=\"171\" y=\"-141.8\" font-family=\"Helvetica,sans-Serif\" font-size=\"14.00\">samples = 59</text>\n<text text-anchor=\"middle\" x=\"171\" y=\"-126.8\" font-family=\"Helvetica,sans-Serif\" font-size=\"14.00\">value = [0, 0, 0, 31, 28, 0]</text>\n<text text-anchor=\"middle\" x=\"171\" y=\"-111.8\" font-family=\"Helvetica,sans-Serif\" font-size=\"14.00\">class = &#160;</text>\n</g>\n<!-- 1&#45;&gt;2 -->\n<g id=\"edge2\" class=\"edge\">\n<title>1&#45;&gt;2</title>\n<path fill=\"none\" stroke=\"black\" d=\"M288.55,-222.91C273.47,-213.11 257.25,-202.56 241.82,-192.53\"/>\n<polygon fill=\"black\" stroke=\"black\" points=\"243.63,-189.54 233.34,-187.02 239.82,-195.41 243.63,-189.54\"/>\n</g>\n<!-- 5 -->\n<g id=\"node6\" class=\"node\">\n<title>5</title>\n<path fill=\"#e5399d\" stroke=\"black\" d=\"M424,-179.5C424,-179.5 286,-179.5 286,-179.5 280,-179.5 274,-173.5 274,-167.5 274,-167.5 274,-123.5 274,-123.5 274,-117.5 280,-111.5 286,-111.5 286,-111.5 424,-111.5 424,-111.5 430,-111.5 436,-117.5 436,-123.5 436,-123.5 436,-167.5 436,-167.5 436,-173.5 430,-179.5 424,-179.5\"/>\n<text text-anchor=\"middle\" x=\"355\" y=\"-164.3\" font-family=\"Helvetica,sans-Serif\" font-size=\"14.00\">entropy = 0.0</text>\n<text text-anchor=\"middle\" x=\"355\" y=\"-149.3\" font-family=\"Helvetica,sans-Serif\" font-size=\"14.00\">samples = 34</text>\n<text text-anchor=\"middle\" x=\"355\" y=\"-134.3\" font-family=\"Helvetica,sans-Serif\" font-size=\"14.00\">value = [0, 0, 0, 0, 0, 34]</text>\n<text text-anchor=\"middle\" x=\"355\" y=\"-119.3\" font-family=\"Helvetica,sans-Serif\" font-size=\"14.00\">class = &#160;</text>\n</g>\n<!-- 1&#45;&gt;5 -->\n<g id=\"edge5\" class=\"edge\">\n<title>1&#45;&gt;5</title>\n<path fill=\"none\" stroke=\"black\" d=\"M352.39,-222.91C352.75,-212.2 353.15,-200.62 353.52,-189.78\"/>\n<polygon fill=\"black\" stroke=\"black\" points=\"357.02,-189.78 353.87,-179.67 350.03,-189.54 357.02,-189.78\"/>\n</g>\n<!-- 3 -->\n<g id=\"node4\" class=\"node\">\n<title>3</title>\n<path fill=\"#399de5\" stroke=\"black\" d=\"M150,-68C150,-68 12,-68 12,-68 6,-68 0,-62 0,-56 0,-56 0,-12 0,-12 0,-6 6,0 12,0 12,0 150,0 150,0 156,0 162,-6 162,-12 162,-12 162,-56 162,-56 162,-62 156,-68 150,-68\"/>\n<text text-anchor=\"middle\" x=\"81\" y=\"-52.8\" font-family=\"Helvetica,sans-Serif\" font-size=\"14.00\">entropy = 0.0</text>\n<text text-anchor=\"middle\" x=\"81\" y=\"-37.8\" font-family=\"Helvetica,sans-Serif\" font-size=\"14.00\">samples = 31</text>\n<text text-anchor=\"middle\" x=\"81\" y=\"-22.8\" font-family=\"Helvetica,sans-Serif\" font-size=\"14.00\">value = [0, 0, 0, 31, 0, 0]</text>\n<text text-anchor=\"middle\" x=\"81\" y=\"-7.8\" font-family=\"Helvetica,sans-Serif\" font-size=\"14.00\">class = &#160;</text>\n</g>\n<!-- 2&#45;&gt;3 -->\n<g id=\"edge3\" class=\"edge\">\n<title>2&#45;&gt;3</title>\n<path fill=\"none\" stroke=\"black\" d=\"M137.49,-103.73C130.07,-94.7 122.2,-85.12 114.77,-76.08\"/>\n<polygon fill=\"black\" stroke=\"black\" points=\"117.42,-73.8 108.37,-68.3 112.02,-78.25 117.42,-73.8\"/>\n</g>\n<!-- 4 -->\n<g id=\"node5\" class=\"node\">\n<title>4</title>\n<path fill=\"#8139e5\" stroke=\"black\" d=\"M330,-68C330,-68 192,-68 192,-68 186,-68 180,-62 180,-56 180,-56 180,-12 180,-12 180,-6 186,0 192,0 192,0 330,0 330,0 336,0 342,-6 342,-12 342,-12 342,-56 342,-56 342,-62 336,-68 330,-68\"/>\n<text text-anchor=\"middle\" x=\"261\" y=\"-52.8\" font-family=\"Helvetica,sans-Serif\" font-size=\"14.00\">entropy = 0.0</text>\n<text text-anchor=\"middle\" x=\"261\" y=\"-37.8\" font-family=\"Helvetica,sans-Serif\" font-size=\"14.00\">samples = 28</text>\n<text text-anchor=\"middle\" x=\"261\" y=\"-22.8\" font-family=\"Helvetica,sans-Serif\" font-size=\"14.00\">value = [0, 0, 0, 0, 28, 0]</text>\n<text text-anchor=\"middle\" x=\"261\" y=\"-7.8\" font-family=\"Helvetica,sans-Serif\" font-size=\"14.00\">class = &#160;</text>\n</g>\n<!-- 2&#45;&gt;4 -->\n<g id=\"edge4\" class=\"edge\">\n<title>2&#45;&gt;4</title>\n<path fill=\"none\" stroke=\"black\" d=\"M204.51,-103.73C211.93,-94.7 219.8,-85.12 227.23,-76.08\"/>\n<polygon fill=\"black\" stroke=\"black\" points=\"229.98,-78.25 233.63,-68.3 224.58,-73.8 229.98,-78.25\"/>\n</g>\n<!-- 7 -->\n<g id=\"node8\" class=\"node\">\n<title>7</title>\n<path fill=\"#39e581\" stroke=\"black\" d=\"M608,-179.5C608,-179.5 470,-179.5 470,-179.5 464,-179.5 458,-173.5 458,-167.5 458,-167.5 458,-123.5 458,-123.5 458,-117.5 464,-111.5 470,-111.5 470,-111.5 608,-111.5 608,-111.5 614,-111.5 620,-117.5 620,-123.5 620,-123.5 620,-167.5 620,-167.5 620,-173.5 614,-179.5 608,-179.5\"/>\n<text text-anchor=\"middle\" x=\"539\" y=\"-164.3\" font-family=\"Helvetica,sans-Serif\" font-size=\"14.00\">entropy = 0.0</text>\n<text text-anchor=\"middle\" x=\"539\" y=\"-149.3\" font-family=\"Helvetica,sans-Serif\" font-size=\"14.00\">samples = 33</text>\n<text text-anchor=\"middle\" x=\"539\" y=\"-134.3\" font-family=\"Helvetica,sans-Serif\" font-size=\"14.00\">value = [0, 0, 33, 0, 0, 0]</text>\n<text text-anchor=\"middle\" x=\"539\" y=\"-119.3\" font-family=\"Helvetica,sans-Serif\" font-size=\"14.00\">class = &#160;</text>\n</g>\n<!-- 6&#45;&gt;7 -->\n<g id=\"edge7\" class=\"edge\">\n<title>6&#45;&gt;7</title>\n<path fill=\"none\" stroke=\"black\" d=\"M543.57,-222.91C542.93,-212.2 542.24,-200.62 541.59,-189.78\"/>\n<polygon fill=\"black\" stroke=\"black\" points=\"545.08,-189.44 540.98,-179.67 538.09,-189.86 545.08,-189.44\"/>\n</g>\n<!-- 8 -->\n<g id=\"node9\" class=\"node\">\n<title>8</title>\n<path fill=\"#ffffff\" stroke=\"black\" d=\"M848,-187C848,-187 650,-187 650,-187 644,-187 638,-181 638,-175 638,-175 638,-116 638,-116 638,-110 644,-104 650,-104 650,-104 848,-104 848,-104 854,-104 860,-110 860,-116 860,-116 860,-175 860,-175 860,-181 854,-187 848,-187\"/>\n<text text-anchor=\"middle\" x=\"749\" y=\"-171.8\" font-family=\"Helvetica,sans-Serif\" font-size=\"14.00\">Absolute Magnitude(Mv) &lt;= 1.052</text>\n<text text-anchor=\"middle\" x=\"749\" y=\"-156.8\" font-family=\"Helvetica,sans-Serif\" font-size=\"14.00\">entropy = 1.0</text>\n<text text-anchor=\"middle\" x=\"749\" y=\"-141.8\" font-family=\"Helvetica,sans-Serif\" font-size=\"14.00\">samples = 66</text>\n<text text-anchor=\"middle\" x=\"749\" y=\"-126.8\" font-family=\"Helvetica,sans-Serif\" font-size=\"14.00\">value = [33, 33, 0, 0, 0, 0]</text>\n<text text-anchor=\"middle\" x=\"749\" y=\"-111.8\" font-family=\"Helvetica,sans-Serif\" font-size=\"14.00\">class = 0</text>\n</g>\n<!-- 6&#45;&gt;8 -->\n<g id=\"edge8\" class=\"edge\">\n<title>6&#45;&gt;8</title>\n<path fill=\"none\" stroke=\"black\" d=\"M616.43,-222.91C633.59,-213.02 652.07,-202.37 669.61,-192.25\"/>\n<polygon fill=\"black\" stroke=\"black\" points=\"671.78,-195.05 678.69,-187.02 668.28,-188.98 671.78,-195.05\"/>\n</g>\n<!-- 9 -->\n<g id=\"node10\" class=\"node\">\n<title>9</title>\n<path fill=\"#9de539\" stroke=\"black\" d=\"M728,-68C728,-68 590,-68 590,-68 584,-68 578,-62 578,-56 578,-56 578,-12 578,-12 578,-6 584,0 590,0 590,0 728,0 728,0 734,0 740,-6 740,-12 740,-12 740,-56 740,-56 740,-62 734,-68 728,-68\"/>\n<text text-anchor=\"middle\" x=\"659\" y=\"-52.8\" font-family=\"Helvetica,sans-Serif\" font-size=\"14.00\">entropy = 0.0</text>\n<text text-anchor=\"middle\" x=\"659\" y=\"-37.8\" font-family=\"Helvetica,sans-Serif\" font-size=\"14.00\">samples = 33</text>\n<text text-anchor=\"middle\" x=\"659\" y=\"-22.8\" font-family=\"Helvetica,sans-Serif\" font-size=\"14.00\">value = [0, 33, 0, 0, 0, 0]</text>\n<text text-anchor=\"middle\" x=\"659\" y=\"-7.8\" font-family=\"Helvetica,sans-Serif\" font-size=\"14.00\">class = &#160;</text>\n</g>\n<!-- 8&#45;&gt;9 -->\n<g id=\"edge9\" class=\"edge\">\n<title>8&#45;&gt;9</title>\n<path fill=\"none\" stroke=\"black\" d=\"M715.49,-103.73C708.07,-94.7 700.2,-85.12 692.77,-76.08\"/>\n<polygon fill=\"black\" stroke=\"black\" points=\"695.42,-73.8 686.37,-68.3 690.02,-78.25 695.42,-73.8\"/>\n</g>\n<!-- 10 -->\n<g id=\"node11\" class=\"node\">\n<title>10</title>\n<path fill=\"#e58139\" stroke=\"black\" d=\"M908,-68C908,-68 770,-68 770,-68 764,-68 758,-62 758,-56 758,-56 758,-12 758,-12 758,-6 764,0 770,0 770,0 908,0 908,0 914,0 920,-6 920,-12 920,-12 920,-56 920,-56 920,-62 914,-68 908,-68\"/>\n<text text-anchor=\"middle\" x=\"839\" y=\"-52.8\" font-family=\"Helvetica,sans-Serif\" font-size=\"14.00\">entropy = 0.0</text>\n<text text-anchor=\"middle\" x=\"839\" y=\"-37.8\" font-family=\"Helvetica,sans-Serif\" font-size=\"14.00\">samples = 33</text>\n<text text-anchor=\"middle\" x=\"839\" y=\"-22.8\" font-family=\"Helvetica,sans-Serif\" font-size=\"14.00\">value = [33, 0, 0, 0, 0, 0]</text>\n<text text-anchor=\"middle\" x=\"839\" y=\"-7.8\" font-family=\"Helvetica,sans-Serif\" font-size=\"14.00\">class = 0</text>\n</g>\n<!-- 8&#45;&gt;10 -->\n<g id=\"edge10\" class=\"edge\">\n<title>8&#45;&gt;10</title>\n<path fill=\"none\" stroke=\"black\" d=\"M782.51,-103.73C789.93,-94.7 797.8,-85.12 805.23,-76.08\"/>\n<polygon fill=\"black\" stroke=\"black\" points=\"807.98,-78.25 811.63,-68.3 802.58,-73.8 807.98,-78.25\"/>\n</g>\n</g>\n</svg>\n",
      "text/plain": [
       "<graphviz.sources.Source at 0x23e76126e80>"
      ]
     },
     "execution_count": 263,
     "metadata": {},
     "output_type": "execute_result"
    }
   ],
   "source": [
    "export_graphviz(\n",
    "        tree_clf,\n",
    "        out_file=\"iris_tree_entropy.dot\",\n",
    "        feature_names=X.columns.tolist(),\n",
    "        class_names=str(y),\n",
    "        rounded=True,\n",
    "        filled=True\n",
    "    )\n",
    "\n",
    "Source.from_file(\"iris_tree_entropy.dot\")"
   ]
  },
  {
   "cell_type": "code",
   "execution_count": 264,
   "id": "0a10641e",
   "metadata": {},
   "outputs": [
    {
     "data": {
      "text/plain": [
       "1.0"
      ]
     },
     "execution_count": 264,
     "metadata": {},
     "output_type": "execute_result"
    }
   ],
   "source": [
    "tree_clf.score(X_test, y_test) # 테스트 데이터셋이 따로 있었다면 테스트 데이터셋으로 정확도 확인"
   ]
  },
  {
   "cell_type": "markdown",
   "id": "e4feb0e2",
   "metadata": {},
   "source": [
    "투표 기반 분류기"
   ]
  },
  {
   "cell_type": "code",
   "execution_count": 265,
   "id": "283cb27e",
   "metadata": {},
   "outputs": [
    {
     "data": {
      "text/html": [
       "<style>#sk-container-id-78 {color: black;background-color: white;}#sk-container-id-78 pre{padding: 0;}#sk-container-id-78 div.sk-toggleable {background-color: white;}#sk-container-id-78 label.sk-toggleable__label {cursor: pointer;display: block;width: 100%;margin-bottom: 0;padding: 0.3em;box-sizing: border-box;text-align: center;}#sk-container-id-78 label.sk-toggleable__label-arrow:before {content: \"▸\";float: left;margin-right: 0.25em;color: #696969;}#sk-container-id-78 label.sk-toggleable__label-arrow:hover:before {color: black;}#sk-container-id-78 div.sk-estimator:hover label.sk-toggleable__label-arrow:before {color: black;}#sk-container-id-78 div.sk-toggleable__content {max-height: 0;max-width: 0;overflow: hidden;text-align: left;background-color: #f0f8ff;}#sk-container-id-78 div.sk-toggleable__content pre {margin: 0.2em;color: black;border-radius: 0.25em;background-color: #f0f8ff;}#sk-container-id-78 input.sk-toggleable__control:checked~div.sk-toggleable__content {max-height: 200px;max-width: 100%;overflow: auto;}#sk-container-id-78 input.sk-toggleable__control:checked~label.sk-toggleable__label-arrow:before {content: \"▾\";}#sk-container-id-78 div.sk-estimator input.sk-toggleable__control:checked~label.sk-toggleable__label {background-color: #d4ebff;}#sk-container-id-78 div.sk-label input.sk-toggleable__control:checked~label.sk-toggleable__label {background-color: #d4ebff;}#sk-container-id-78 input.sk-hidden--visually {border: 0;clip: rect(1px 1px 1px 1px);clip: rect(1px, 1px, 1px, 1px);height: 1px;margin: -1px;overflow: hidden;padding: 0;position: absolute;width: 1px;}#sk-container-id-78 div.sk-estimator {font-family: monospace;background-color: #f0f8ff;border: 1px dotted black;border-radius: 0.25em;box-sizing: border-box;margin-bottom: 0.5em;}#sk-container-id-78 div.sk-estimator:hover {background-color: #d4ebff;}#sk-container-id-78 div.sk-parallel-item::after {content: \"\";width: 100%;border-bottom: 1px solid gray;flex-grow: 1;}#sk-container-id-78 div.sk-label:hover label.sk-toggleable__label {background-color: #d4ebff;}#sk-container-id-78 div.sk-serial::before {content: \"\";position: absolute;border-left: 1px solid gray;box-sizing: border-box;top: 0;bottom: 0;left: 50%;z-index: 0;}#sk-container-id-78 div.sk-serial {display: flex;flex-direction: column;align-items: center;background-color: white;padding-right: 0.2em;padding-left: 0.2em;position: relative;}#sk-container-id-78 div.sk-item {position: relative;z-index: 1;}#sk-container-id-78 div.sk-parallel {display: flex;align-items: stretch;justify-content: center;background-color: white;position: relative;}#sk-container-id-78 div.sk-item::before, #sk-container-id-78 div.sk-parallel-item::before {content: \"\";position: absolute;border-left: 1px solid gray;box-sizing: border-box;top: 0;bottom: 0;left: 50%;z-index: -1;}#sk-container-id-78 div.sk-parallel-item {display: flex;flex-direction: column;z-index: 1;position: relative;background-color: white;}#sk-container-id-78 div.sk-parallel-item:first-child::after {align-self: flex-end;width: 50%;}#sk-container-id-78 div.sk-parallel-item:last-child::after {align-self: flex-start;width: 50%;}#sk-container-id-78 div.sk-parallel-item:only-child::after {width: 0;}#sk-container-id-78 div.sk-dashed-wrapped {border: 1px dashed gray;margin: 0 0.4em 0.5em 0.4em;box-sizing: border-box;padding-bottom: 0.4em;background-color: white;}#sk-container-id-78 div.sk-label label {font-family: monospace;font-weight: bold;display: inline-block;line-height: 1.2em;}#sk-container-id-78 div.sk-label-container {text-align: center;}#sk-container-id-78 div.sk-container {/* jupyter's `normalize.less` sets `[hidden] { display: none; }` but bootstrap.min.css set `[hidden] { display: none !important; }` so we also need the `!important` here to be able to override the default hidden behavior on the sphinx rendered scikit-learn.org. See: https://github.com/scikit-learn/scikit-learn/issues/21755 */display: inline-block !important;position: relative;}#sk-container-id-78 div.sk-text-repr-fallback {display: none;}</style><div id=\"sk-container-id-78\" class=\"sk-top-container\"><div class=\"sk-text-repr-fallback\"><pre>VotingClassifier(estimators=[(&#x27;lr&#x27;, LogisticRegression(random_state=11)),\n",
       "                             (&#x27;rf&#x27;, RandomForestClassifier(random_state=11)),\n",
       "                             (&#x27;svc&#x27;, SVC(random_state=11))])</pre><b>In a Jupyter environment, please rerun this cell to show the HTML representation or trust the notebook. <br />On GitHub, the HTML representation is unable to render, please try loading this page with nbviewer.org.</b></div><div class=\"sk-container\" hidden><div class=\"sk-item sk-dashed-wrapped\"><div class=\"sk-label-container\"><div class=\"sk-label sk-toggleable\"><input class=\"sk-toggleable__control sk-hidden--visually\" id=\"sk-estimator-id-93\" type=\"checkbox\" ><label for=\"sk-estimator-id-93\" class=\"sk-toggleable__label sk-toggleable__label-arrow\">VotingClassifier</label><div class=\"sk-toggleable__content\"><pre>VotingClassifier(estimators=[(&#x27;lr&#x27;, LogisticRegression(random_state=11)),\n",
       "                             (&#x27;rf&#x27;, RandomForestClassifier(random_state=11)),\n",
       "                             (&#x27;svc&#x27;, SVC(random_state=11))])</pre></div></div></div><div class=\"sk-parallel\"><div class=\"sk-parallel-item\"><div class=\"sk-item\"><div class=\"sk-label-container\"><div class=\"sk-label sk-toggleable\"><label>lr</label></div></div><div class=\"sk-serial\"><div class=\"sk-item\"><div class=\"sk-estimator sk-toggleable\"><input class=\"sk-toggleable__control sk-hidden--visually\" id=\"sk-estimator-id-94\" type=\"checkbox\" ><label for=\"sk-estimator-id-94\" class=\"sk-toggleable__label sk-toggleable__label-arrow\">LogisticRegression</label><div class=\"sk-toggleable__content\"><pre>LogisticRegression(random_state=11)</pre></div></div></div></div></div></div><div class=\"sk-parallel-item\"><div class=\"sk-item\"><div class=\"sk-label-container\"><div class=\"sk-label sk-toggleable\"><label>rf</label></div></div><div class=\"sk-serial\"><div class=\"sk-item\"><div class=\"sk-estimator sk-toggleable\"><input class=\"sk-toggleable__control sk-hidden--visually\" id=\"sk-estimator-id-95\" type=\"checkbox\" ><label for=\"sk-estimator-id-95\" class=\"sk-toggleable__label sk-toggleable__label-arrow\">RandomForestClassifier</label><div class=\"sk-toggleable__content\"><pre>RandomForestClassifier(random_state=11)</pre></div></div></div></div></div></div><div class=\"sk-parallel-item\"><div class=\"sk-item\"><div class=\"sk-label-container\"><div class=\"sk-label sk-toggleable\"><label>svc</label></div></div><div class=\"sk-serial\"><div class=\"sk-item\"><div class=\"sk-estimator sk-toggleable\"><input class=\"sk-toggleable__control sk-hidden--visually\" id=\"sk-estimator-id-96\" type=\"checkbox\" ><label for=\"sk-estimator-id-96\" class=\"sk-toggleable__label sk-toggleable__label-arrow\">SVC</label><div class=\"sk-toggleable__content\"><pre>SVC(random_state=11)</pre></div></div></div></div></div></div></div></div></div></div>"
      ],
      "text/plain": [
       "VotingClassifier(estimators=[('lr', LogisticRegression(random_state=11)),\n",
       "                             ('rf', RandomForestClassifier(random_state=11)),\n",
       "                             ('svc', SVC(random_state=11))])"
      ]
     },
     "execution_count": 265,
     "metadata": {},
     "output_type": "execute_result"
    }
   ],
   "source": [
    "from sklearn.ensemble import VotingClassifier\n",
    "from sklearn.ensemble import RandomForestClassifier\n",
    "from sklearn.linear_model import LogisticRegression\n",
    "from sklearn.svm import SVC\n",
    "\n",
    "log_clf = LogisticRegression(solver=\"lbfgs\", random_state=seed)\n",
    "rnd_clf = RandomForestClassifier(n_estimators=100, random_state=seed)\n",
    "svm_clf = SVC(gamma=\"scale\", random_state=seed)\n",
    "\n",
    "# 강성 투표(hard voting)\n",
    "voting_clf = VotingClassifier(\n",
    "    estimators=[('lr', log_clf), ('rf', rnd_clf), ('svc', svm_clf)],\n",
    "    voting='hard')\n",
    "\n",
    "voting_clf.fit(X_train, y_train)"
   ]
  },
  {
   "cell_type": "code",
   "execution_count": 269,
   "id": "ac26b8ea",
   "metadata": {},
   "outputs": [
    {
     "name": "stdout",
     "output_type": "stream",
     "text": [
      "LogisticRegression 0.9583333333333334\n",
      "RandomForestClassifier 1.0\n",
      "SVC 0.9583333333333334\n",
      "VotingClassifier 0.9583333333333334\n"
     ]
    }
   ],
   "source": [
    "# 각 분류기의 테스트 집합에 대한 정확도 확인\n",
    "for clf in (log_clf, rnd_clf, svm_clf, voting_clf):\n",
    "    clf.fit(X_train, y_train)\n",
    "    print(clf.__class__.__name__, clf.score(X_test, y_test))"
   ]
  },
  {
   "cell_type": "code",
   "execution_count": 279,
   "id": "e0ca5caa",
   "metadata": {},
   "outputs": [
    {
     "name": "stdout",
     "output_type": "stream",
     "text": [
      "LogisticRegression 0.9583333333333334\n",
      "RandomForestClassifier 0.9791666666666666\n",
      "SVC 0.9583333333333334\n",
      "VotingClassifier 0.9583333333333334\n"
     ]
    }
   ],
   "source": [
    "# 동일한 작업을 아래와 같이 할 수도 있음\n",
    "from sklearn.metrics import accuracy_score\n",
    "\n",
    "for clf in (log_clf, rnd_clf, svm_clf, voting_clf):\n",
    "    clf.fit(X_train, y_train)\n",
    "    y_pred = clf.predict(X_test)\n",
    "    print(clf.__class__.__name__, accuracy_score(y_test, y_pred))"
   ]
  },
  {
   "cell_type": "markdown",
   "id": "a9a28e27",
   "metadata": {},
   "source": [
    "배깅"
   ]
  },
  {
   "cell_type": "code",
   "execution_count": 287,
   "id": "9a8b2b6c",
   "metadata": {},
   "outputs": [
    {
     "name": "stdout",
     "output_type": "stream",
     "text": [
      "0.9791666666666666\n"
     ]
    }
   ],
   "source": [
    "# 결정 트리 분류기 500개의 배깅 앙상블\n",
    "from sklearn.ensemble import BaggingClassifier\n",
    "from sklearn.tree import DecisionTreeClassifier\n",
    "\n",
    "bag_clf = BaggingClassifier(\n",
    "    DecisionTreeClassifier(random_state=seed), n_estimators=500,\n",
    "    max_samples=100, bootstrap=True, random_state=seed)\n",
    "bag_clf.fit(X_train, y_train)\n",
    "print(bag_clf.score(X_test, y_test))"
   ]
  },
  {
   "cell_type": "code",
   "execution_count": 285,
   "id": "e56b9549",
   "metadata": {},
   "outputs": [
    {
     "name": "stdout",
     "output_type": "stream",
     "text": [
      "0.9791666666666666\n"
     ]
    }
   ],
   "source": [
    "# 결정 트리 분류기 하나의 성능\n",
    "tree_clf = DecisionTreeClassifier(random_state=seed)\n",
    "tree_clf.fit(X_train, y_train)\n",
    "print(tree_clf.score(X_test, y_test))"
   ]
  },
  {
   "cell_type": "markdown",
   "id": "5336590b",
   "metadata": {},
   "source": [
    "랜덤 포레스트"
   ]
  },
  {
   "cell_type": "code",
   "execution_count": 290,
   "id": "1ec6c6be",
   "metadata": {},
   "outputs": [
    {
     "name": "stdout",
     "output_type": "stream",
     "text": [
      "0.9791666666666666\n"
     ]
    }
   ],
   "source": [
    "from sklearn.ensemble import RandomForestClassifier\n",
    "\n",
    "rnd_clf = RandomForestClassifier(n_estimators=500, max_leaf_nodes=16, random_state=seed)\n",
    "rnd_clf.fit(X_train, y_train)\n",
    "print(rnd_clf.score(X_test, y_test))"
   ]
  },
  {
   "cell_type": "markdown",
   "id": "a1a8919f",
   "metadata": {},
   "source": [
    "AdaBoost"
   ]
  },
  {
   "cell_type": "code",
   "execution_count": 276,
   "id": "2af083ac",
   "metadata": {},
   "outputs": [
    {
     "name": "stdout",
     "output_type": "stream",
     "text": [
      "0.9791666666666666\n"
     ]
    }
   ],
   "source": [
    "from sklearn.ensemble import AdaBoostClassifier\n",
    "\n",
    "ada_clf = AdaBoostClassifier(\n",
    "    DecisionTreeClassifier(max_depth=1), n_estimators=200,\n",
    "    learning_rate=0.5, random_state=seed)\n",
    "ada_clf.fit(X_train, y_train)\n",
    "print(ada_clf.score(X_test, y_test))"
   ]
  }
 ],
 "metadata": {
  "kernelspec": {
   "display_name": "Python 3.9.13 ('mlclass')",
   "language": "python",
   "name": "python3"
  },
  "language_info": {
   "codemirror_mode": {
    "name": "ipython",
    "version": 3
   },
   "file_extension": ".py",
   "mimetype": "text/x-python",
   "name": "python",
   "nbconvert_exporter": "python",
   "pygments_lexer": "ipython3",
   "version": "3.9.13"
  },
  "vscode": {
   "interpreter": {
    "hash": "85735caf4e6e0dd84b0a1f58026c5c5e4f424c50f40ed4819c7fe7c26d3c34bf"
   }
  }
 },
 "nbformat": 4,
 "nbformat_minor": 5
}
